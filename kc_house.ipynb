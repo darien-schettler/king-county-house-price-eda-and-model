{
 "cells": [
  {
   "cell_type": "markdown",
   "metadata": {},
   "source": [
    "# King County House Prices\n",
    "### https://www.kaggle.com/harlfoxem/housesalesprediction"
   ]
  },
  {
   "cell_type": "markdown",
   "metadata": {},
   "source": [
    "**id** \n",
    "- a notation for a house  \n",
    "\n",
    "**date**\n",
    "- Date house was sold  \n",
    "\n",
    "**price**\n",
    "- Price is prediction target  \n",
    "\n",
    "**bedrooms**\n",
    "- Number of Bedrooms/House  \n",
    "\n",
    "**bathrooms**\n",
    "- Number of bathrooms/bedrooms  \n",
    "\n",
    "**sqft_living**\n",
    "- square footage of the home  \n",
    "\n",
    "**sqft_lot**\n",
    "- square footage of the lot  \n",
    "\n",
    "**floors**\n",
    "- Total floors (levels) in house  \n",
    "\n",
    "**waterfront**\n",
    "- House which has a view to a waterfront  \n",
    "\n",
    "**view**\n",
    "- Has been viewed  \n",
    "\n",
    "**condition**\n",
    "- How good the condition is ( Overall )  \n",
    "\n",
    "**gradeoverall**\n",
    "- grade given to the housing unit, based on King County grading system  \n",
    "\n",
    "**sqft_above**\n",
    "- square footage of house apart from basement  \n",
    "\n",
    "**sqft_basement**\n",
    "- square footage of the basement  \n",
    "\n",
    "**yr_built**\n",
    "- Built Year  \n",
    "\n",
    "**yr_renovated**\n",
    "- Year when house was renovated  \n",
    "\n",
    "**zipcode**\n",
    "- zip  \n",
    "\n",
    "**lat**\n",
    "- Latitude coordinate  \n",
    "\n",
    "**long**\n",
    "- Longitude coordinate  \n",
    "\n",
    "**sqft_living15**\n",
    "- Living room area in 2015(implies-- some renovations) This might or might not have affected the lotsize area  \n",
    "\n",
    "**sqft_lot15**\n",
    "- lotSize area in 2015(implies-- some renovations)  "
   ]
  },
  {
   "cell_type": "markdown",
   "metadata": {},
   "source": [
    "# 1.1 -- Import Libraries\n",
    "-------------------\n",
    "**Pandas** - Excel-like library for handling data in an orderly fashion (rows/columns/indices/etc.)  \n",
    "\n",
    "**Numpy** - Calculator tool  \n",
    "\n",
    "**Matplotlib** - Graphing tool  \n",
    "\n",
    "**Seaborn** - Graphing tool"
   ]
  },
  {
   "cell_type": "code",
   "execution_count": 2,
   "metadata": {},
   "outputs": [
    {
     "name": "stderr",
     "output_type": "stream",
     "text": [
      "Using TensorFlow backend.\n"
     ]
    }
   ],
   "source": [
    "import pandas as pd\n",
    "import numpy as np\n",
    "import random\n",
    "\n",
    "import keras\n",
    "from keras.models import Sequential\n",
    "from keras.layers import Dense, Dropout\n",
    "from keras.utils import to_categorical\n",
    "from sklearn.preprocessing import StandardScaler\n",
    "from sklearn.preprocessing import LabelEncoder\n",
    "from sklearn.model_selection import train_test_split\n",
    "from sklearn.decomposition import PCA\n",
    "\n",
    "import matplotlib.pyplot as plt\n",
    "import seaborn as sns\n",
    "sns.set(style=\"whitegrid\", color_codes=True)\n",
    "sns.set(font_scale=0.8)\n",
    "%matplotlib inline"
   ]
  },
  {
   "cell_type": "markdown",
   "metadata": {},
   "source": [
    "# 1.2 -- Import The Data Features (X) And Data Labels (Y)\n",
    "-------------------  "
   ]
  },
  {
   "cell_type": "code",
   "execution_count": 3,
   "metadata": {},
   "outputs": [
    {
     "name": "stdout",
     "output_type": "stream",
     "text": [
      "Feature 1 is id\n",
      "Feature 2 is date\n",
      "Feature 3 is price\n",
      "Feature 4 is bedrooms\n",
      "Feature 5 is bathrooms\n",
      "Feature 6 is sqft_living\n",
      "Feature 7 is sqft_lot\n",
      "Feature 8 is floors\n",
      "Feature 9 is waterfront\n",
      "Feature 10 is view\n",
      "Feature 11 is condition\n",
      "Feature 12 is grade\n",
      "Feature 13 is sqft_above\n",
      "Feature 14 is sqft_basement\n",
      "Feature 15 is yr_built\n",
      "Feature 16 is yr_renovated\n",
      "Feature 17 is zipcode\n",
      "Feature 18 is lat\n",
      "Feature 19 is long\n",
      "Feature 20 is sqft_living15\n",
      "Feature 21 is sqft_lot15\n"
     ]
    }
   ],
   "source": [
    "# Open the csv file and store it as a pd.DataFrame\n",
    "df = pd.read_csv(\"kc_house_data.csv\") \n",
    "\n",
    "for i, feature in enumerate(df.columns):\n",
    "    print(\"Feature {} is {}\".format(i+1, feature))"
   ]
  },
  {
   "cell_type": "markdown",
   "metadata": {},
   "source": [
    "# 1.3 -- Do Some Basic Data Exploration On The Features"
   ]
  },
  {
   "cell_type": "code",
   "execution_count": 4,
   "metadata": {},
   "outputs": [
    {
     "name": "stdout",
     "output_type": "stream",
     "text": [
      "There are 21613 houses in the dataset and each house as 21 features\n",
      "\n",
      "These are the various datatypes and how often they occur within the dataset\n",
      "int64      15\n",
      "float64     5\n",
      "object      1\n",
      "dtype: int64\n",
      "\n",
      "                 id         price      bedrooms     bathrooms   sqft_living  \\\n",
      "count  2.161300e+04  2.161300e+04  21613.000000  21613.000000  21613.000000   \n",
      "mean   4.580302e+09  5.400881e+05      3.370842      2.114757   2079.899736   \n",
      "std    2.876566e+09  3.671272e+05      0.930062      0.770163    918.440897   \n",
      "min    1.000102e+06  7.500000e+04      0.000000      0.000000    290.000000   \n",
      "25%    2.123049e+09  3.219500e+05      3.000000      1.750000   1427.000000   \n",
      "50%    3.904930e+09  4.500000e+05      3.000000      2.250000   1910.000000   \n",
      "75%    7.308900e+09  6.450000e+05      4.000000      2.500000   2550.000000   \n",
      "max    9.900000e+09  7.700000e+06     33.000000      8.000000  13540.000000   \n",
      "\n",
      "           sqft_lot        floors    waterfront          view     condition  \\\n",
      "count  2.161300e+04  21613.000000  21613.000000  21613.000000  21613.000000   \n",
      "mean   1.510697e+04      1.494309      0.007542      0.234303      3.409430   \n",
      "std    4.142051e+04      0.539989      0.086517      0.766318      0.650743   \n",
      "min    5.200000e+02      1.000000      0.000000      0.000000      1.000000   \n",
      "25%    5.040000e+03      1.000000      0.000000      0.000000      3.000000   \n",
      "50%    7.618000e+03      1.500000      0.000000      0.000000      3.000000   \n",
      "75%    1.068800e+04      2.000000      0.000000      0.000000      4.000000   \n",
      "max    1.651359e+06      3.500000      1.000000      4.000000      5.000000   \n",
      "\n",
      "              grade    sqft_above  sqft_basement      yr_built  yr_renovated  \\\n",
      "count  21613.000000  21613.000000   21613.000000  21613.000000  21613.000000   \n",
      "mean       7.656873   1788.390691     291.509045   1971.005136     84.402258   \n",
      "std        1.175459    828.090978     442.575043     29.373411    401.679240   \n",
      "min        1.000000    290.000000       0.000000   1900.000000      0.000000   \n",
      "25%        7.000000   1190.000000       0.000000   1951.000000      0.000000   \n",
      "50%        7.000000   1560.000000       0.000000   1975.000000      0.000000   \n",
      "75%        8.000000   2210.000000     560.000000   1997.000000      0.000000   \n",
      "max       13.000000   9410.000000    4820.000000   2015.000000   2015.000000   \n",
      "\n",
      "            zipcode           lat          long  sqft_living15     sqft_lot15  \n",
      "count  21613.000000  21613.000000  21613.000000   21613.000000   21613.000000  \n",
      "mean   98077.939805     47.560053   -122.213896    1986.552492   12768.455652  \n",
      "std       53.505026      0.138564      0.140828     685.391304   27304.179631  \n",
      "min    98001.000000     47.155900   -122.519000     399.000000     651.000000  \n",
      "25%    98033.000000     47.471000   -122.328000    1490.000000    5100.000000  \n",
      "50%    98065.000000     47.571800   -122.230000    1840.000000    7620.000000  \n",
      "75%    98118.000000     47.678000   -122.125000    2360.000000   10083.000000  \n",
      "max    98199.000000     47.777600   -121.315000    6210.000000  871200.000000  \n"
     ]
    }
   ],
   "source": [
    "print(\"There are {} houses in the dataset and each house as {} features\\n\".format(df.shape[0], df.shape[1]))\n",
    "\n",
    "# print(df.info())  -- no missing data\n",
    "\n",
    "print(\"These are the various datatypes and how often they occur within the dataset\")\n",
    "print(df.dtypes.value_counts())\n",
    "\n",
    "print()\n",
    "\n",
    "print(df.describe())"
   ]
  },
  {
   "cell_type": "code",
   "execution_count": 5,
   "metadata": {},
   "outputs": [
    {
     "name": "stdout",
     "output_type": "stream",
     "text": [
      "price            1.000000\n",
      "sqft_living      0.702035\n",
      "grade            0.667434\n",
      "sqft_above       0.605567\n",
      "sqft_living15    0.585379\n",
      "bathrooms        0.525138\n",
      "view             0.397293\n",
      "sqft_basement    0.323816\n",
      "bedrooms         0.308350\n",
      "lat              0.307003\n",
      "waterfront       0.266369\n",
      "floors           0.256794\n",
      "yr_renovated     0.126434\n",
      "sqft_lot         0.089661\n",
      "sqft_lot15       0.082447\n",
      "yr_built         0.054012\n",
      "condition        0.036362\n",
      "long             0.021626\n",
      "id              -0.016762\n",
      "zipcode         -0.053203\n",
      "Name: price, dtype: float64\n"
     ]
    }
   ],
   "source": [
    "# Find matrix of correlations\n",
    "correlation = df.corr()[\"price\"]\n",
    "\n",
    "# Sort the correlation list keeping the indices and then flip the list (::-1) (because it sorts min to max normally)\n",
    "print(correlation[np.argsort(correlation, axis=0)[::-1]])\n",
    "# As somewhere to start let's discard everything that has less than 0.15 correlation\n",
    "\n",
    "# This means we would discard :\n",
    "# ---------------------------\n",
    "#  yr_renovated     0.126434\n",
    "#  sqft_lot         0.089661\n",
    "#  sqft_lot15       0.082447\n",
    "#  yr_built         0.054012\n",
    "#  condition        0.036362\n",
    "#  long             0.021626\n",
    "#  id              -0.016762\n",
    "#  zipcode         -0.053203"
   ]
  },
  {
   "cell_type": "code",
   "execution_count": 6,
   "metadata": {},
   "outputs": [
    {
     "name": "stdout",
     "output_type": "stream",
     "text": [
      "Index(['date', 'price', 'bedrooms', 'bathrooms', 'sqft_living', 'floors',\n",
      "       'waterfront', 'view', 'grade', 'sqft_above', 'sqft_basement', 'lat',\n",
      "       'sqft_living15'],\n",
      "      dtype='object')\n"
     ]
    }
   ],
   "source": [
    "# Make new df without the features we decided we don't want to deal with\n",
    "to_drop = ['sqft_lot', 'sqft_lot15', 'yr_built', 'condition', 'long', 'id', 'zipcode', 'yr_renovated']\n",
    "df_v1 = df.drop(to_drop, axis=1)\n",
    "print(df_v1.columns)"
   ]
  },
  {
   "cell_type": "markdown",
   "metadata": {},
   "source": [
    "### Having observed which features correlated strongly with price, let's next see which features are multi-colinear"
   ]
  },
  {
   "cell_type": "code",
   "execution_count": 9,
   "metadata": {
    "scrolled": true
   },
   "outputs": [
    {
     "data": {
      "image/png": "[encoded data removed]",
      "text/plain": [
       "<Figure size 720x720 with 2 Axes>"
      ]
     },
     "metadata": {},
     "output_type": "display_data"
    }
   ],
   "source": [
    "corrMatrix=np.round(df_v1[df_v1.columns].corr(),2)\n",
    "\n",
    "sns.set(font_scale=1.10)\n",
    "plt.figure(figsize=(10, 10))\n",
    "\n",
    "sns.heatmap(corrMatrix, \n",
    "            vmax=0.8, \n",
    "            linewidths=0.01,\n",
    "            square=True,\n",
    "            annot=True,\n",
    "            cmap='viridis',\n",
    "            linecolor=\"white\")\n",
    "\n",
    "plt.title('Correlation Between Features')\n",
    "plt.show()"
   ]
  },
  {
   "cell_type": "code",
   "execution_count": 10,
   "metadata": {},
   "outputs": [],
   "source": [
    "#df_v1['sqft_above'].corr(df_v1['sqft_living'])"
   ]
  },
  {
   "cell_type": "markdown",
   "metadata": {},
   "source": [
    "### Multi-Colinearity Is Often A Problem and It Usually Indicates That Features Can Be Combined (Or PCA)\n",
    "For now we will let it alone and come back to it after"
   ]
  },
  {
   "cell_type": "markdown",
   "metadata": {},
   "source": [
    "### To continue exploring we will look at the distribution of sale prices for the houses"
   ]
  },
  {
   "cell_type": "code",
   "execution_count": 11,
   "metadata": {
    "scrolled": true
   },
   "outputs": [
    {
     "name": "stderr",
     "output_type": "stream",
     "text": [
      "/home/ec2-user/anaconda3/envs/tensorflow_p36/lib/python3.6/site-packages/matplotlib/axes/_axes.py:6462: UserWarning: The 'normed' kwarg is deprecated, and has been replaced by the 'density' kwarg.\n",
      "  warnings.warn(\"The 'normed' kwarg is deprecated, and has been \"\n"
     ]
    },
    {
     "data": {
      "text/plain": [
       "Text(0.5,0,'Sale Price')"
      ]
     },
     "execution_count": 11,
     "metadata": {},
     "output_type": "execute_result"
    },
    {
     "data": {
      "image/png": "[encoded data removed]",
      "text/plain": [
       "<Figure size 432x288 with 1 Axes>"
      ]
     },
     "metadata": {},
     "output_type": "display_data"
    }
   ],
   "source": [
    "sns.distplot(df_v1.price, bins=50, color=\"r\", kde=False)\n",
    "plt.title(\"Distribution of Sale Price\")\n",
    "plt.ylabel(\"Number of Occurences\")\n",
    "plt.xlabel(\"Sale Price\")"
   ]
  },
  {
   "cell_type": "code",
   "execution_count": 12,
   "metadata": {},
   "outputs": [
    {
     "name": "stdout",
     "output_type": "stream",
     "text": [
      "\n",
      "The skew value is : 4.024069144684712\n",
      "The kurtosis value is : 34.58554043194243\n",
      "\n"
     ]
    }
   ],
   "source": [
    "#skewness  \n",
    "#kurtosis\n",
    "\n",
    "print(\"\\nThe skew value is : {}\\nThe kurtosis value is : {}\\n\".format(df_v1.price.skew(), df_v1.price.kurt()))"
   ]
  },
  {
   "cell_type": "markdown",
   "metadata": {},
   "source": [
    "### We can see that the data is heavily skewed (Kurtosis) to the left (Under 1 Million Dollars)\n",
    "**I personally Would Like to See The Distribution UNDER 1000000 dollars**"
   ]
  },
  {
   "cell_type": "code",
   "execution_count": 13,
   "metadata": {},
   "outputs": [],
   "source": [
    "price_under_1_million = [x for x in df_v1.price if x < 1000000]\n"
   ]
  },
  {
   "cell_type": "code",
   "execution_count": 14,
   "metadata": {},
   "outputs": [
    {
     "name": "stderr",
     "output_type": "stream",
     "text": [
      "/home/ec2-user/anaconda3/envs/tensorflow_p36/lib/python3.6/site-packages/matplotlib/axes/_axes.py:6462: UserWarning: The 'normed' kwarg is deprecated, and has been replaced by the 'density' kwarg.\n",
      "  warnings.warn(\"The 'normed' kwarg is deprecated, and has been \"\n"
     ]
    },
    {
     "data": {
      "text/plain": [
       "Text(0.5,0,'Sale Price')"
      ]
     },
     "execution_count": 14,
     "metadata": {},
     "output_type": "execute_result"
    },
    {
     "data": {
      "image/png": "[encoded data removed]",
      "text/plain": [
       "<Figure size 432x288 with 1 Axes>"
      ]
     },
     "metadata": {},
     "output_type": "display_data"
    }
   ],
   "source": [
    "sns.distplot(price_under_1_million, bins=50, color=\"r\", kde=False)\n",
    "plt.title(\"Distribution of Sale Price Under 1 Million Dollars\")\n",
    "plt.ylabel(\"Number of Occurences\")\n",
    "plt.xlabel(\"Sale Price\")"
   ]
  },
  {
   "cell_type": "markdown",
   "metadata": {},
   "source": [
    "### We can now see that there is a peak around 300,000 but the data is pretty noisy  \n",
    "**Additionally it appears the data is exponential in increasing frequency when approaching 300,000 but decays at a relatively linear rate**\n",
    "\n",
    "It's all well and good to just visualize without the upper limit... but to get a better idea of what's going on let's see how the top 0.5% live"
   ]
  },
  {
   "cell_type": "code",
   "execution_count": 15,
   "metadata": {},
   "outputs": [
    {
     "name": "stdout",
     "output_type": "stream",
     "text": [
      "There are 109 examples of houses that sold higher than the richy-rich boundary of $2453290\n"
     ]
    }
   ],
   "source": [
    "theRichBoundary = np.percentile(df_v1.price.values, 99.5)\n",
    "print(\"There are {} examples of houses that sold higher than the richy-rich boundary of ${}\".format(df_v1.price[df_v1.price.values>theRichBoundary].count(), int(round(theRichBoundary))))"
   ]
  },
  {
   "cell_type": "code",
   "execution_count": 16,
   "metadata": {},
   "outputs": [
    {
     "name": "stderr",
     "output_type": "stream",
     "text": [
      "/home/ec2-user/anaconda3/envs/tensorflow_p36/lib/python3.6/site-packages/matplotlib/axes/_axes.py:6462: UserWarning: The 'normed' kwarg is deprecated, and has been replaced by the 'density' kwarg.\n",
      "  warnings.warn(\"The 'normed' kwarg is deprecated, and has been \"\n"
     ]
    },
    {
     "data": {
      "text/plain": [
       "Text(0.5,0,'Sale Price')"
      ]
     },
     "execution_count": 16,
     "metadata": {},
     "output_type": "execute_result"
    },
    {
     "data": {
      "image/png": "[encoded data removed]",
      "text/plain": [
       "<Figure size 432x288 with 1 Axes>"
      ]
     },
     "metadata": {},
     "output_type": "display_data"
    }
   ],
   "source": [
    "rich_people = [x for x in df_v1.price if x >= theRichBoundary]\n",
    "\n",
    "sns.distplot(rich_people, bins=12, color=\"g\", kde=False)\n",
    "plt.title(\"Distribution of Sale Price For The Ultra Rich\")\n",
    "plt.ylabel(\"Number of Occurences\")\n",
    "plt.xlabel(\"Sale Price\")"
   ]
  },
  {
   "cell_type": "code",
   "execution_count": 17,
   "metadata": {},
   "outputs": [
    {
     "data": {
      "text/plain": [
       "<matplotlib.axes._subplots.AxesSubplot at 0x7f9a78f1f5f8>"
      ]
     },
     "execution_count": 17,
     "metadata": {},
     "output_type": "execute_result"
    },
    {
     "data": {
      "image/png": "[encoded data removed]",
      "text/plain": [
       "<Figure size 432x288 with 1 Axes>"
      ]
     },
     "metadata": {},
     "output_type": "display_data"
    }
   ],
   "source": [
    "sns.boxplot(\"bedrooms\",\"price\",data=df)"
   ]
  },
  {
   "cell_type": "code",
   "execution_count": 18,
   "metadata": {},
   "outputs": [
    {
     "data": {
      "text/plain": [
       "<matplotlib.axes._subplots.AxesSubplot at 0x7f9a78d499e8>"
      ]
     },
     "execution_count": 18,
     "metadata": {},
     "output_type": "execute_result"
    },
    {
     "data": {
      "image/png": "[encoded data removed]",
      "text/plain": [
       "<Figure size 432x288 with 1 Axes>"
      ]
     },
     "metadata": {},
     "output_type": "display_data"
    }
   ],
   "source": [
    "sns.violinplot(\"floors\", \"price\", data=df)"
   ]
  },
  {
   "cell_type": "code",
   "execution_count": 19,
   "metadata": {},
   "outputs": [
    {
     "data": {
      "text/plain": [
       "<matplotlib.axes._subplots.AxesSubplot at 0x7f9a78cc0da0>"
      ]
     },
     "execution_count": 19,
     "metadata": {},
     "output_type": "execute_result"
    },
    {
     "data": {
      "image/png": "[encoded data removed]",
      "text/plain": [
       "<Figure size 432x288 with 1 Axes>"
      ]
     },
     "metadata": {},
     "output_type": "display_data"
    }
   ],
   "source": [
    "sns.boxplot(np.round(df.bathrooms), df.price)"
   ]
  },
  {
   "cell_type": "code",
   "execution_count": 20,
   "metadata": {},
   "outputs": [
    {
     "data": {
      "text/plain": [
       "<matplotlib.axes._subplots.AxesSubplot at 0x7f9a78c17278>"
      ]
     },
     "execution_count": 20,
     "metadata": {},
     "output_type": "execute_result"
    },
    {
     "data": {
      "image/png": "[encoded data removed]",
      "text/plain": [
       "<Figure size 432x288 with 1 Axes>"
      ]
     },
     "metadata": {},
     "output_type": "display_data"
    }
   ],
   "source": [
    "sns.regplot(df.sqft_living, df.price)"
   ]
  },
  {
   "cell_type": "markdown",
   "metadata": {},
   "source": [
    "That's probably enough data exploration for now... I'll restructure this to make it prettier later and jump right into modeling so I have something done...\n",
    "\n",
    "## Let's Create Dummy Variable/Columns, And Min-Max Normalize Our Data\n",
    "\n",
    "### We need to create dummy variables when the numbers in the columns don't properly represent the data\n",
    "**DATE** -- We can split into 2014 and 2015  \n",
    "\n",
    "**PRICE** -- Normalize by dividing 50000  \n",
    "\n",
    "**BEDROOMS** -- Categorize  \n",
    "\n",
    "**BATHROOMS** -- Categorize  \n",
    "\n",
    "**SQFT_LIVING** -- Min/Max Normalization  \n",
    "\n",
    "**FLOORS** -- Categorize  \n",
    "\n",
    "**WATERFRONT** -- Leave Alone (Already Binary)  \n",
    "\n",
    "**VIEW** -- Leave Alone (Already Binary)  \n",
    "\n",
    "**SQFT_ABOVE** -- Min/Max Normalization  \n",
    "\n",
    "**SQFT_BASEMENT** -- Min/Max Normalization  \n",
    "\n",
    "**LATITUDE** -- Categorize (Or Try)\n",
    "\n"
   ]
  },
  {
   "cell_type": "code",
   "execution_count": 21,
   "metadata": {},
   "outputs": [],
   "source": [
    "df_v2 = df_v1.copy()"
   ]
  },
  {
   "cell_type": "markdown",
   "metadata": {},
   "source": [
    "## Let's Fix The Date Column First"
   ]
  },
  {
   "cell_type": "code",
   "execution_count": 22,
   "metadata": {},
   "outputs": [
    {
     "name": "stdout",
     "output_type": "stream",
     "text": [
      "['2014', '2014', '2015', '2014', '2015']\n"
     ]
    }
   ],
   "source": [
    "# New array for dates to temporarily hold things\n",
    "new_date_column = []\n",
    "\n",
    "# Iterate through all the dates and extract only the year and save it to the new_date_column array\n",
    "for date in df_v1.date:\n",
    "    new_date_column.append(date[0:4])\n",
    "    \n",
    "# Print 5 dates so we can see\n",
    "print(new_date_column[0:5])"
   ]
  },
  {
   "cell_type": "code",
   "execution_count": 23,
   "metadata": {},
   "outputs": [
    {
     "name": "stdout",
     "output_type": "stream",
     "text": [
      "[0 0 1 0 1]\n"
     ]
    }
   ],
   "source": [
    "# Since we need to one hot encode these dates (two columns, one for 2014 and one for 2015) we use LabelEncoder\n",
    "# Label encoder must be declared before it is used hence two lines instead of one\n",
    "label_encoder = LabelEncoder()\n",
    "integer_encoded_dates = label_encoder.fit_transform(new_date_column)\n",
    "\n",
    "# As we can see 2014 is represented as 0 and 2015 is represented as 1 here\n",
    "print(integer_encoded_dates[0:5])"
   ]
  },
  {
   "cell_type": "code",
   "execution_count": 24,
   "metadata": {},
   "outputs": [
    {
     "name": "stdout",
     "output_type": "stream",
     "text": [
      "[[1. 0.]\n",
      " [1. 0.]\n",
      " [0. 1.]\n",
      " [1. 0.]\n",
      " [0. 1.]]\n"
     ]
    }
   ],
   "source": [
    "# Now we use to_categorical (from Keras) to turn our encoded list into two columns\n",
    "one_hot_encoded_dates = to_categorical(integer_encoded_dates)\n",
    "\n",
    "# Again we print the first 5 examples and we see that we now have two columns\n",
    "print(one_hot_encoded_dates[0:5])"
   ]
  },
  {
   "cell_type": "code",
   "execution_count": 25,
   "metadata": {},
   "outputs": [
    {
     "name": "stdout",
     "output_type": "stream",
     "text": [
      "[1. 1. 0. 1. 0.]\n",
      "[0. 0. 1. 0. 1.]\n"
     ]
    }
   ],
   "source": [
    "# Now we need to split the two date columns\n",
    "date_2014 = one_hot_encoded_dates[:,0]\n",
    "date_2015 = one_hot_encoded_dates[:,1]\n",
    "\n",
    "# See the first 5 examples to make sure it worked\n",
    "print(date_2014[0:5])\n",
    "print(date_2015[0:5])"
   ]
  },
  {
   "cell_type": "code",
   "execution_count": 26,
   "metadata": {},
   "outputs": [
    {
     "name": "stdout",
     "output_type": "stream",
     "text": [
      "      price  bedrooms  bathrooms  sqft_living  floors  waterfront  view  \\\n",
      "0  221900.0         3       1.00         1180     1.0           0     0   \n",
      "1  538000.0         3       2.25         2570     2.0           0     0   \n",
      "2  180000.0         2       1.00          770     1.0           0     0   \n",
      "3  604000.0         4       3.00         1960     1.0           0     0   \n",
      "4  510000.0         3       2.00         1680     1.0           0     0   \n",
      "\n",
      "   grade  sqft_above  sqft_basement      lat  sqft_living15  Date_2014  \\\n",
      "0      7        1180              0  47.5112           1340        1.0   \n",
      "1      7        2170            400  47.7210           1690        1.0   \n",
      "2      6         770              0  47.7379           2720        0.0   \n",
      "3      7        1050            910  47.5208           1360        1.0   \n",
      "4      8        1680              0  47.6168           1800        0.0   \n",
      "\n",
      "   Date_2015  \n",
      "0        0.0  \n",
      "1        0.0  \n",
      "2        1.0  \n",
      "3        0.0  \n",
      "4        1.0  \n"
     ]
    }
   ],
   "source": [
    "# Now we need to add these two lists to the dataFrame as Series objects (just pandas stuff)\n",
    "df_v2[\"Date_2014\"] = date_2014\n",
    "df_v2[\"Date_2015\"] = date_2015\n",
    "df_v2 = df_v2.drop(\"date\", axis=1)\n",
    "\n",
    "print(df_v2.head(5))"
   ]
  },
  {
   "cell_type": "markdown",
   "metadata": {},
   "source": [
    "## Let's Fix The Price Column Next\n",
    "\n",
    "**For simplicity we will simply divide all the prices by 100,000 dollars so that it is easy to scale them back up later"
   ]
  },
  {
   "cell_type": "code",
   "execution_count": 27,
   "metadata": {},
   "outputs": [
    {
     "name": "stdout",
     "output_type": "stream",
     "text": [
      "0    2.219\n",
      "1    5.380\n",
      "2    1.800\n",
      "3    6.040\n",
      "4    5.100\n",
      "Name: price, dtype: float64\n"
     ]
    }
   ],
   "source": [
    "df_v2.price = df_v2.price/100000\n",
    "\n",
    "# Check the first 5 examples\n",
    "print(df_v2.price.head(5))"
   ]
  },
  {
   "cell_type": "markdown",
   "metadata": {},
   "source": [
    "## Let's Fix Bedrooms and Bathrooms Next\n",
    "\n",
    "**This will follow the same method we used for years so we will go through it faster**"
   ]
  },
  {
   "cell_type": "code",
   "execution_count": 28,
   "metadata": {},
   "outputs": [
    {
     "name": "stdout",
     "output_type": "stream",
     "text": [
      "UNIQUE BEDROOMS:\n",
      "[ 0  1  2  3  4  5  6  7  8  9 10 11 33]\n",
      "\n",
      "There are 13 unique bedroom types\n",
      "\n",
      "UNIQUE BATHROOMS:\n",
      "[0.   0.5  0.75 1.   1.25 1.5  1.75 2.   2.25 2.5  2.75 3.   3.25 3.5\n",
      " 3.75 4.   4.25 4.5  4.75 5.   5.25 5.5  5.75 6.   6.25 6.5  6.75 7.5\n",
      " 7.75 8.  ]\n",
      "\n",
      "There are 30 unique bathroom types\n"
     ]
    }
   ],
   "source": [
    "# Lets see how many unique values there are in the bedrooms and bathrooms categories\n",
    "print(\"UNIQUE BEDROOMS:\\n{}\".format(np.unique(df_v2.bedrooms)))\n",
    "print(\"\\nThere are {} unique bedroom types\".format(len(np.unique(df_v2.bedrooms))))\n",
    "print(\"\\nUNIQUE BATHROOMS:\\n{}\".format(np.unique(df_v2.bathrooms)))\n",
    "print(\"\\nThere are {} unique bathroom types\".format(len(np.unique(df_v2.bathrooms))))"
   ]
  },
  {
   "cell_type": "code",
   "execution_count": 29,
   "metadata": {},
   "outputs": [
    {
     "name": "stdout",
     "output_type": "stream",
     "text": [
      "ORIGINAL 5 EXAMPLES OF BEDROOMS:\n",
      "0    3\n",
      "1    3\n",
      "2    2\n",
      "3    4\n",
      "4    3\n",
      "Name: bedrooms, dtype: int64\n",
      "\n",
      "ORIGINAL 5 EXAMPLES OF BATHROOMS:\n",
      "0    1.00\n",
      "1    2.25\n",
      "2    1.00\n",
      "3    3.00\n",
      "4    2.00\n",
      "Name: bathrooms, dtype: float64\n",
      "\n",
      "INTEGER ENCODED 5 EXAMPLES OF BEDROOMS:\n",
      "[3 3 2 4 3]\n",
      "\n",
      "INTEGER ENCODED 5 EXAMPLES OF BATHROOMS:\n",
      "[ 3  8  3 11  7]\n",
      "\n",
      "ONE_HOT ENCODED 5 EXAMPLES OF BEDROOMS:\n",
      "[[0. 0. 0. 1. 0. 0. 0. 0. 0. 0. 0. 0. 0.]\n",
      " [0. 0. 0. 1. 0. 0. 0. 0. 0. 0. 0. 0. 0.]\n",
      " [0. 0. 1. 0. 0. 0. 0. 0. 0. 0. 0. 0. 0.]\n",
      " [0. 0. 0. 0. 1. 0. 0. 0. 0. 0. 0. 0. 0.]\n",
      " [0. 0. 0. 1. 0. 0. 0. 0. 0. 0. 0. 0. 0.]]\n",
      "\n",
      "ONE_HOT ENCODED 5 EXAMPLES OF BATHROOMS:\n",
      "[[0. 0. 0. 1. 0. 0. 0. 0. 0. 0. 0. 0. 0. 0. 0. 0. 0. 0. 0. 0. 0. 0. 0. 0.\n",
      "  0. 0. 0. 0. 0. 0.]\n",
      " [0. 0. 0. 0. 0. 0. 0. 0. 1. 0. 0. 0. 0. 0. 0. 0. 0. 0. 0. 0. 0. 0. 0. 0.\n",
      "  0. 0. 0. 0. 0. 0.]\n",
      " [0. 0. 0. 1. 0. 0. 0. 0. 0. 0. 0. 0. 0. 0. 0. 0. 0. 0. 0. 0. 0. 0. 0. 0.\n",
      "  0. 0. 0. 0. 0. 0.]\n",
      " [0. 0. 0. 0. 0. 0. 0. 0. 0. 0. 0. 1. 0. 0. 0. 0. 0. 0. 0. 0. 0. 0. 0. 0.\n",
      "  0. 0. 0. 0. 0. 0.]\n",
      " [0. 0. 0. 0. 0. 0. 0. 1. 0. 0. 0. 0. 0. 0. 0. 0. 0. 0. 0. 0. 0. 0. 0. 0.\n",
      "  0. 0. 0. 0. 0. 0.]]\n",
      "\n",
      "We now have 13 columns for the 21613 examples derived from bedrooms\n",
      "\n",
      "We now have 30 columns for the 21613 examples derived from bathrooms\n"
     ]
    }
   ],
   "source": [
    "print(\"ORIGINAL 5 EXAMPLES OF BEDROOMS:\\n{}\".format(df_v2.bedrooms.head(5)))\n",
    "print(\"\\nORIGINAL 5 EXAMPLES OF BATHROOMS:\\n{}\".format(df_v2.bathrooms.head(5)))\n",
    "\n",
    "# INTEGER ENCODING\n",
    "integer_encoded_bedrooms = label_encoder.fit_transform(df_v2.bedrooms)\n",
    "integer_encoded_bathrooms = label_encoder.fit_transform(df_v2.bathrooms)\n",
    "\n",
    "# Print Check for Integer Encoding\n",
    "print(\"\\nINTEGER ENCODED 5 EXAMPLES OF BEDROOMS:\\n{}\".format(integer_encoded_bedrooms[0:5]))\n",
    "print(\"\\nINTEGER ENCODED 5 EXAMPLES OF BATHROOMS:\\n{}\".format(integer_encoded_bathrooms[0:5]))\n",
    "\n",
    "# ONE_HOT ENCODING\n",
    "one_hot_encoded_bedrooms = to_categorical(integer_encoded_bedrooms)\n",
    "one_hot_encoded_bathrooms = to_categorical(integer_encoded_bathrooms)\n",
    "\n",
    "# Print Check for Integer Encoding\n",
    "print(\"\\nONE_HOT ENCODED 5 EXAMPLES OF BEDROOMS:\\n{}\".format(one_hot_encoded_bedrooms[0:5]))\n",
    "print(\"\\nONE_HOT ENCODED 5 EXAMPLES OF BATHROOMS:\\n{}\".format(one_hot_encoded_bathrooms[0:5]))\n",
    "\n",
    "print(\"\\nWe now have {} columns for the {} examples derived from bedrooms\".format(np.shape(one_hot_encoded_bedrooms)[1], np.shape(one_hot_encoded_bedrooms)[0]))\n",
    "print(\"\\nWe now have {} columns for the {} examples derived from bathrooms\".format(np.shape(one_hot_encoded_bathrooms)[1], np.shape(one_hot_encoded_bathrooms)[0]))\n"
   ]
  },
  {
   "cell_type": "code",
   "execution_count": 30,
   "metadata": {},
   "outputs": [
    {
     "name": "stdout",
     "output_type": "stream",
     "text": [
      "['0_Bedroom', '1_Bedroom', '2_Bedroom', '3_Bedroom', '4_Bedroom', '5_Bedroom', '6_Bedroom', '7_Bedroom', '8_Bedroom', '9_Bedroom', '10_Bedroom', '11_Bedroom', '33_Bedroom']\n",
      "\n",
      "['0.0_Bathroom', '0.5_Bathroom', '0.75_Bathroom', '1.0_Bathroom', '1.25_Bathroom', '1.5_Bathroom', '1.75_Bathroom', '2.0_Bathroom', '2.25_Bathroom', '2.5_Bathroom', '2.75_Bathroom', '3.0_Bathroom', '3.25_Bathroom', '3.5_Bathroom', '3.75_Bathroom', '4.0_Bathroom', '4.25_Bathroom', '4.5_Bathroom', '4.75_Bathroom', '5.0_Bathroom', '5.25_Bathroom', '5.5_Bathroom', '5.75_Bathroom', '6.0_Bathroom', '6.25_Bathroom', '6.5_Bathroom', '6.75_Bathroom', '7.5_Bathroom', '7.75_Bathroom', '8.0_Bathroom']\n"
     ]
    }
   ],
   "source": [
    "# Generate New Column Titles\n",
    "bedroom_columns = []\n",
    "for unique_bedroom in np.unique(df_v2.bedrooms):\n",
    "    bedroom_columns.append(str(unique_bedroom)+\"_Bedroom\")\n",
    "    \n",
    "bathroom_columns = []\n",
    "for unique_bathroom in np.unique(df_v2.bathrooms):\n",
    "    bathroom_columns.append(str(unique_bathroom)+\"_Bathroom\")\n",
    "\n",
    "print(bedroom_columns)\n",
    "print()\n",
    "print(bathroom_columns)"
   ]
  },
  {
   "cell_type": "code",
   "execution_count": 31,
   "metadata": {},
   "outputs": [
    {
     "name": "stdout",
     "output_type": "stream",
     "text": [
      "   price  bedrooms  bathrooms  sqft_living  floors  waterfront  view  grade  \\\n",
      "0  2.219         3       1.00         1180     1.0           0     0      7   \n",
      "1  5.380         3       2.25         2570     2.0           0     0      7   \n",
      "2  1.800         2       1.00          770     1.0           0     0      6   \n",
      "3  6.040         4       3.00         1960     1.0           0     0      7   \n",
      "4  5.100         3       2.00         1680     1.0           0     0      8   \n",
      "\n",
      "   sqft_above  sqft_basement      ...       5.25_Bathroom  5.5_Bathroom  \\\n",
      "0        1180              0      ...                 0.0           0.0   \n",
      "1        2170            400      ...                 0.0           0.0   \n",
      "2         770              0      ...                 0.0           0.0   \n",
      "3        1050            910      ...                 0.0           0.0   \n",
      "4        1680              0      ...                 0.0           0.0   \n",
      "\n",
      "   5.75_Bathroom  6.0_Bathroom  6.25_Bathroom  6.5_Bathroom  6.75_Bathroom  \\\n",
      "0            0.0           0.0            0.0           0.0            0.0   \n",
      "1            0.0           0.0            0.0           0.0            0.0   \n",
      "2            0.0           0.0            0.0           0.0            0.0   \n",
      "3            0.0           0.0            0.0           0.0            0.0   \n",
      "4            0.0           0.0            0.0           0.0            0.0   \n",
      "\n",
      "   7.5_Bathroom  7.75_Bathroom  8.0_Bathroom  \n",
      "0           0.0            0.0           0.0  \n",
      "1           0.0            0.0           0.0  \n",
      "2           0.0            0.0           0.0  \n",
      "3           0.0            0.0           0.0  \n",
      "4           0.0            0.0           0.0  \n",
      "\n",
      "[5 rows x 57 columns]\n",
      "\n",
      "Index(['price', 'bedrooms', 'bathrooms', 'sqft_living', 'floors', 'waterfront',\n",
      "       'view', 'grade', 'sqft_above', 'sqft_basement', 'lat', 'sqft_living15',\n",
      "       'Date_2014', 'Date_2015', '0_Bedroom', '1_Bedroom', '2_Bedroom',\n",
      "       '3_Bedroom', '4_Bedroom', '5_Bedroom', '6_Bedroom', '7_Bedroom',\n",
      "       '8_Bedroom', '9_Bedroom', '10_Bedroom', '11_Bedroom', '33_Bedroom',\n",
      "       '0.0_Bathroom', '0.5_Bathroom', '0.75_Bathroom', '1.0_Bathroom',\n",
      "       '1.25_Bathroom', '1.5_Bathroom', '1.75_Bathroom', '2.0_Bathroom',\n",
      "       '2.25_Bathroom', '2.5_Bathroom', '2.75_Bathroom', '3.0_Bathroom',\n",
      "       '3.25_Bathroom', '3.5_Bathroom', '3.75_Bathroom', '4.0_Bathroom',\n",
      "       '4.25_Bathroom', '4.5_Bathroom', '4.75_Bathroom', '5.0_Bathroom',\n",
      "       '5.25_Bathroom', '5.5_Bathroom', '5.75_Bathroom', '6.0_Bathroom',\n",
      "       '6.25_Bathroom', '6.5_Bathroom', '6.75_Bathroom', '7.5_Bathroom',\n",
      "       '7.75_Bathroom', '8.0_Bathroom'],\n",
      "      dtype='object')\n"
     ]
    }
   ],
   "source": [
    "# We now do what we did before ... generate new columns for all of the bedrooms and bathrooms\n",
    "\n",
    "for i, column in enumerate(bedroom_columns):\n",
    "    df_v2[column] = one_hot_encoded_bedrooms[:,i]\n",
    "\n",
    "for i, column in enumerate(bathroom_columns):\n",
    "    df_v2[column] = one_hot_encoded_bathrooms[:,i]\n",
    "\n",
    "print(df_v2.head(5))\n",
    "print()\n",
    "print(df_v2.columns)"
   ]
  },
  {
   "cell_type": "code",
   "execution_count": 32,
   "metadata": {},
   "outputs": [
    {
     "name": "stdout",
     "output_type": "stream",
     "text": [
      "Index(['price', 'sqft_living', 'floors', 'waterfront', 'view', 'grade',\n",
      "       'sqft_above', 'sqft_basement', 'lat', 'sqft_living15', 'Date_2014',\n",
      "       'Date_2015', '0_Bedroom', '1_Bedroom', '2_Bedroom', '3_Bedroom',\n",
      "       '4_Bedroom', '5_Bedroom', '6_Bedroom', '7_Bedroom', '8_Bedroom',\n",
      "       '9_Bedroom', '10_Bedroom', '11_Bedroom', '33_Bedroom', '0.0_Bathroom',\n",
      "       '0.5_Bathroom', '0.75_Bathroom', '1.0_Bathroom', '1.25_Bathroom',\n",
      "       '1.5_Bathroom', '1.75_Bathroom', '2.0_Bathroom', '2.25_Bathroom',\n",
      "       '2.5_Bathroom', '2.75_Bathroom', '3.0_Bathroom', '3.25_Bathroom',\n",
      "       '3.5_Bathroom', '3.75_Bathroom', '4.0_Bathroom', '4.25_Bathroom',\n",
      "       '4.5_Bathroom', '4.75_Bathroom', '5.0_Bathroom', '5.25_Bathroom',\n",
      "       '5.5_Bathroom', '5.75_Bathroom', '6.0_Bathroom', '6.25_Bathroom',\n",
      "       '6.5_Bathroom', '6.75_Bathroom', '7.5_Bathroom', '7.75_Bathroom',\n",
      "       '8.0_Bathroom'],\n",
      "      dtype='object')\n"
     ]
    }
   ],
   "source": [
    "# Now we get rid of the original bedrooms and bathrooms columns\n",
    "df_v2 = df_v2.drop(\"bedrooms\", axis=1)\n",
    "df_v2 = df_v2.drop(\"bathrooms\", axis=1)\n",
    "\n",
    "print(df_v2.columns)"
   ]
  },
  {
   "cell_type": "markdown",
   "metadata": {},
   "source": [
    "## Lets Quickly Categorize Floors To Get It Out Of The Way"
   ]
  },
  {
   "cell_type": "code",
   "execution_count": 33,
   "metadata": {},
   "outputs": [
    {
     "name": "stdout",
     "output_type": "stream",
     "text": [
      "[1.  1.5 2.  2.5 3.  3.5]\n",
      "There are 6 unique floor values\n"
     ]
    }
   ],
   "source": [
    "print(np.unique(df_v2.floors))\n",
    "print(\"There are {} unique floor values\".format(len(np.unique(df_v2.floors))))"
   ]
  },
  {
   "cell_type": "code",
   "execution_count": 34,
   "metadata": {},
   "outputs": [
    {
     "name": "stdout",
     "output_type": "stream",
     "text": [
      "ORIGINAL 5 EXAMPLES OF FLOORS:\n",
      "0    1.0\n",
      "1    2.0\n",
      "2    1.0\n",
      "3    1.0\n",
      "4    1.0\n",
      "Name: floors, dtype: float64\n",
      "\n",
      "INTEGER ENCODED 5 EXAMPLES OF FLOORS:\n",
      "[0 2 0 0 0]\n",
      "\n",
      "ONE_HOT ENCODED 5 EXAMPLES OF FLOORS:\n",
      "[[1. 0. 0. 0. 0. 0.]\n",
      " [0. 0. 1. 0. 0. 0.]\n",
      " [1. 0. 0. 0. 0. 0.]\n",
      " [1. 0. 0. 0. 0. 0.]\n",
      " [1. 0. 0. 0. 0. 0.]]\n",
      "\n",
      "We now have 6 columns for the 21613 examples derived from floors\n"
     ]
    }
   ],
   "source": [
    "print(\"ORIGINAL 5 EXAMPLES OF FLOORS:\\n{}\".format(df_v2.floors.head(5)))\n",
    "\n",
    "# INTEGER ENCODING\n",
    "integer_encoded_floors = label_encoder.fit_transform(df_v2.floors)\n",
    "\n",
    "# Print Check for Integer Encoding\n",
    "print(\"\\nINTEGER ENCODED 5 EXAMPLES OF FLOORS:\\n{}\".format(integer_encoded_floors[0:5]))\n",
    "\n",
    "# ONE_HOT ENCODING\n",
    "one_hot_encoded_floors = to_categorical(integer_encoded_floors)\n",
    "\n",
    "# Print Check for Integer Encoding\n",
    "print(\"\\nONE_HOT ENCODED 5 EXAMPLES OF FLOORS:\\n{}\".format(one_hot_encoded_floors[0:5]))\n",
    "\n",
    "print(\"\\nWe now have {} columns for the {} examples derived from floors\".format(np.shape(one_hot_encoded_floors)[1], np.shape(one_hot_encoded_floors)[0]))\n"
   ]
  },
  {
   "cell_type": "code",
   "execution_count": 35,
   "metadata": {},
   "outputs": [
    {
     "name": "stdout",
     "output_type": "stream",
     "text": [
      "['1.0_Floors', '1.5_Floors', '2.0_Floors', '2.5_Floors', '3.0_Floors', '3.5_Floors']\n"
     ]
    }
   ],
   "source": [
    "# Generate New Column Titles\n",
    "floor_columns = []\n",
    "for unique_floor in np.unique(df_v2.floors):\n",
    "    floor_columns.append(str(unique_floor)+\"_Floors\")\n",
    "    \n",
    "print(floor_columns)"
   ]
  },
  {
   "cell_type": "code",
   "execution_count": 36,
   "metadata": {},
   "outputs": [
    {
     "name": "stdout",
     "output_type": "stream",
     "text": [
      "   price  sqft_living  floors  waterfront  view  grade  sqft_above  \\\n",
      "0  2.219         1180     1.0           0     0      7        1180   \n",
      "1  5.380         2570     2.0           0     0      7        2170   \n",
      "2  1.800          770     1.0           0     0      6         770   \n",
      "3  6.040         1960     1.0           0     0      7        1050   \n",
      "4  5.100         1680     1.0           0     0      8        1680   \n",
      "\n",
      "   sqft_basement      lat  sqft_living15     ...      6.75_Bathroom  \\\n",
      "0              0  47.5112           1340     ...                0.0   \n",
      "1            400  47.7210           1690     ...                0.0   \n",
      "2              0  47.7379           2720     ...                0.0   \n",
      "3            910  47.5208           1360     ...                0.0   \n",
      "4              0  47.6168           1800     ...                0.0   \n",
      "\n",
      "   7.5_Bathroom  7.75_Bathroom  8.0_Bathroom  1.0_Floors  1.5_Floors  \\\n",
      "0           0.0            0.0           0.0         1.0         0.0   \n",
      "1           0.0            0.0           0.0         0.0         0.0   \n",
      "2           0.0            0.0           0.0         1.0         0.0   \n",
      "3           0.0            0.0           0.0         1.0         0.0   \n",
      "4           0.0            0.0           0.0         1.0         0.0   \n",
      "\n",
      "   2.0_Floors  2.5_Floors  3.0_Floors  3.5_Floors  \n",
      "0         0.0         0.0         0.0         0.0  \n",
      "1         1.0         0.0         0.0         0.0  \n",
      "2         0.0         0.0         0.0         0.0  \n",
      "3         0.0         0.0         0.0         0.0  \n",
      "4         0.0         0.0         0.0         0.0  \n",
      "\n",
      "[5 rows x 61 columns]\n",
      "\n",
      "Index(['price', 'sqft_living', 'floors', 'waterfront', 'view', 'grade',\n",
      "       'sqft_above', 'sqft_basement', 'lat', 'sqft_living15', 'Date_2014',\n",
      "       'Date_2015', '0_Bedroom', '1_Bedroom', '2_Bedroom', '3_Bedroom',\n",
      "       '4_Bedroom', '5_Bedroom', '6_Bedroom', '7_Bedroom', '8_Bedroom',\n",
      "       '9_Bedroom', '10_Bedroom', '11_Bedroom', '33_Bedroom', '0.0_Bathroom',\n",
      "       '0.5_Bathroom', '0.75_Bathroom', '1.0_Bathroom', '1.25_Bathroom',\n",
      "       '1.5_Bathroom', '1.75_Bathroom', '2.0_Bathroom', '2.25_Bathroom',\n",
      "       '2.5_Bathroom', '2.75_Bathroom', '3.0_Bathroom', '3.25_Bathroom',\n",
      "       '3.5_Bathroom', '3.75_Bathroom', '4.0_Bathroom', '4.25_Bathroom',\n",
      "       '4.5_Bathroom', '4.75_Bathroom', '5.0_Bathroom', '5.25_Bathroom',\n",
      "       '5.5_Bathroom', '5.75_Bathroom', '6.0_Bathroom', '6.25_Bathroom',\n",
      "       '6.5_Bathroom', '6.75_Bathroom', '7.5_Bathroom', '7.75_Bathroom',\n",
      "       '8.0_Bathroom', '1.0_Floors', '1.5_Floors', '2.0_Floors', '2.5_Floors',\n",
      "       '3.0_Floors', '3.5_Floors'],\n",
      "      dtype='object')\n"
     ]
    }
   ],
   "source": [
    "# We now do what we did before ... generate new columns for all of the bedrooms and bathrooms\n",
    "\n",
    "for i, column in enumerate(floor_columns):\n",
    "    df_v2[column] = one_hot_encoded_floors[:,i]\n",
    "    \n",
    "print(df_v2.head(5))\n",
    "print()\n",
    "print(df_v2.columns)"
   ]
  },
  {
   "cell_type": "code",
   "execution_count": 37,
   "metadata": {},
   "outputs": [
    {
     "name": "stdout",
     "output_type": "stream",
     "text": [
      "Index(['price', 'sqft_living', 'waterfront', 'view', 'grade', 'sqft_above',\n",
      "       'sqft_basement', 'lat', 'sqft_living15', 'Date_2014', 'Date_2015',\n",
      "       '0_Bedroom', '1_Bedroom', '2_Bedroom', '3_Bedroom', '4_Bedroom',\n",
      "       '5_Bedroom', '6_Bedroom', '7_Bedroom', '8_Bedroom', '9_Bedroom',\n",
      "       '10_Bedroom', '11_Bedroom', '33_Bedroom', '0.0_Bathroom',\n",
      "       '0.5_Bathroom', '0.75_Bathroom', '1.0_Bathroom', '1.25_Bathroom',\n",
      "       '1.5_Bathroom', '1.75_Bathroom', '2.0_Bathroom', '2.25_Bathroom',\n",
      "       '2.5_Bathroom', '2.75_Bathroom', '3.0_Bathroom', '3.25_Bathroom',\n",
      "       '3.5_Bathroom', '3.75_Bathroom', '4.0_Bathroom', '4.25_Bathroom',\n",
      "       '4.5_Bathroom', '4.75_Bathroom', '5.0_Bathroom', '5.25_Bathroom',\n",
      "       '5.5_Bathroom', '5.75_Bathroom', '6.0_Bathroom', '6.25_Bathroom',\n",
      "       '6.5_Bathroom', '6.75_Bathroom', '7.5_Bathroom', '7.75_Bathroom',\n",
      "       '8.0_Bathroom', '1.0_Floors', '1.5_Floors', '2.0_Floors', '2.5_Floors',\n",
      "       '3.0_Floors', '3.5_Floors'],\n",
      "      dtype='object')\n"
     ]
    }
   ],
   "source": [
    "# Now we get rid of the original floors columns\n",
    "df_v2 = df_v2.drop(\"floors\", axis=1)\n",
    "\n",
    "print(df_v2.columns)"
   ]
  },
  {
   "cell_type": "markdown",
   "metadata": {},
   "source": [
    "# Let's Check Where We're At\n",
    "~~DATE -- We can split into 2014 and 2015~~\n",
    "\n",
    "~~PRICE -- Normalize by dividing 50000~~\n",
    "\n",
    "~~BEDROOMS -- Categorize~~\n",
    "\n",
    "~~BATHROOMS -- Categorize~~\n",
    "\n",
    "SQFT_LIVING -- Min/Max Normalization\n",
    "\n",
    "~~FLOORS -- Categorize~~\n",
    "\n",
    "~~WATERFRONT -- Leave Alone (Already Binary)~~\n",
    "\n",
    "~~VIEW -- Leave Alone (Already Binary)~~\n",
    "\n",
    "SQFT_ABOVE -- Min/Max Normalization\n",
    "\n",
    "SQFT_BASEMENT -- Min/Max Normalization\n",
    "\n",
    "LATITUDE -- Categorize (Or Try)\n",
    "\n",
    "**Let's Knock Out All The Min/Max Normalization Next!**  \n",
    "\n",
    "**SQFT_LIVING, SQFT_ABOVE, SQFT_BASEMENT, and SQFT_LIVING15**\n",
    "\n",
    "**NOTE THAT SQFT_BASEMENT HAS A BUNCH OF 0's ALREADY SO WE ONLY HAVE TO DO MAX NORMALIZATION**"
   ]
  },
  {
   "cell_type": "code",
   "execution_count": 38,
   "metadata": {},
   "outputs": [],
   "source": [
    "def min_max_norm(array):\n",
    "    \n",
    "    new_array = np.zeros_like(array)\n",
    "    \n",
    "    minimum = min(array)\n",
    "    range = max(array) - minimum\n",
    "    \n",
    "    for i, x in enumerate(array):\n",
    "        new_array[i] = (x-minimum)/range \n",
    "        \n",
    "    return new_array"
   ]
  },
  {
   "cell_type": "code",
   "execution_count": 39,
   "metadata": {},
   "outputs": [
    {
     "name": "stdout",
     "output_type": "stream",
     "text": [
      "count    21613.000000\n",
      "mean      2079.899736\n",
      "std        918.440897\n",
      "min        290.000000\n",
      "25%       1427.000000\n",
      "50%       1910.000000\n",
      "75%       2550.000000\n",
      "max      13540.000000\n",
      "Name: sqft_living, dtype: float64\n"
     ]
    }
   ],
   "source": [
    "print(df_v2.sqft_living.describe())"
   ]
  },
  {
   "cell_type": "code",
   "execution_count": 40,
   "metadata": {},
   "outputs": [
    {
     "name": "stderr",
     "output_type": "stream",
     "text": [
      "/home/ec2-user/anaconda3/envs/tensorflow_p36/lib/python3.6/site-packages/matplotlib/axes/_axes.py:6462: UserWarning: The 'normed' kwarg is deprecated, and has been replaced by the 'density' kwarg.\n",
      "  warnings.warn(\"The 'normed' kwarg is deprecated, and has been \"\n"
     ]
    },
    {
     "data": {
      "text/plain": [
       "Text(0.5,0,'Sqft Living')"
      ]
     },
     "execution_count": 40,
     "metadata": {},
     "output_type": "execute_result"
    },
    {
     "data": {
      "image/png": "[encoded data removed]",
      "text/plain": [
       "<Figure size 432x288 with 1 Axes>"
      ]
     },
     "metadata": {},
     "output_type": "display_data"
    }
   ],
   "source": [
    "# Assume Normal Distribution And See How It Looks\n",
    "\n",
    "sns.distplot(df_v2.sqft_living, bins=100, color=\"g\", kde=False)\n",
    "plt.title(\"Distribution of Sqft Living\")\n",
    "plt.ylabel(\"Number of Occurences\")\n",
    "plt.xlabel(\"Sqft Living\")"
   ]
  },
  {
   "cell_type": "code",
   "execution_count": 41,
   "metadata": {},
   "outputs": [
    {
     "name": "stderr",
     "output_type": "stream",
     "text": [
      "/home/ec2-user/anaconda3/envs/tensorflow_p36/lib/python3.6/site-packages/matplotlib/axes/_axes.py:6462: UserWarning: The 'normed' kwarg is deprecated, and has been replaced by the 'density' kwarg.\n",
      "  warnings.warn(\"The 'normed' kwarg is deprecated, and has been \"\n"
     ]
    },
    {
     "data": {
      "text/plain": [
       "Text(0.5,0,'Sqft Living')"
      ]
     },
     "execution_count": 41,
     "metadata": {},
     "output_type": "execute_result"
    },
    {
     "data": {
      "image/png": "[encoded data removed]",
      "text/plain": [
       "<Figure size 432x288 with 1 Axes>"
      ]
     },
     "metadata": {},
     "output_type": "display_data"
    }
   ],
   "source": [
    "# Assume Exponential Distribution And See How It Looks\n",
    "\n",
    "sns.distplot(np.log(df_v2.sqft_living), bins=100, color=\"g\", kde=False)\n",
    "plt.title(\"Distribution of Sqft Living\")\n",
    "plt.ylabel(\"Number of Occurences\")\n",
    "plt.xlabel(\"Sqft Living\")"
   ]
  },
  {
   "cell_type": "markdown",
   "metadata": {},
   "source": [
    "## The sqft_living is distributed exponentially... to make it appear normal we apply a logarithm to all the values before we normalize"
   ]
  },
  {
   "cell_type": "code",
   "execution_count": 42,
   "metadata": {},
   "outputs": [
    {
     "name": "stdout",
     "output_type": "stream",
     "text": [
      "Original Description of Sqft Living\n",
      "count    21613.000000\n",
      "mean      2079.899736\n",
      "std        918.440897\n",
      "min        290.000000\n",
      "25%       1427.000000\n",
      "50%       1910.000000\n",
      "75%       2550.000000\n",
      "max      13540.000000\n",
      "Name: sqft_living, dtype: float64\n",
      "\n",
      "After Logarithmic Transformation Description of Sqft Living\n",
      "count    21613.000000\n",
      "mean         7.550335\n",
      "std          0.424807\n",
      "min          5.669881\n",
      "25%          7.263330\n",
      "50%          7.554859\n",
      "75%          7.843849\n",
      "max          9.513404\n",
      "Name: sqft_living, dtype: float64\n"
     ]
    }
   ],
   "source": [
    "log_sqft_living = np.log(df_v2.sqft_living)\n",
    "\n",
    "print(\"Original Description of Sqft Living\")\n",
    "print(df_v2.sqft_living.describe())\n",
    "\n",
    "print()\n",
    "\n",
    "# Note that after the transform STD-DEV is wayyy down this is good\n",
    "print(\"After Logarithmic Transformation Description of Sqft Living\")\n",
    "print(log_sqft_living.describe())"
   ]
  },
  {
   "cell_type": "code",
   "execution_count": 43,
   "metadata": {
    "scrolled": true
   },
   "outputs": [
    {
     "name": "stdout",
     "output_type": "stream",
     "text": [
      "Let's see our normalized standardized data!!\n",
      "\n",
      "count    21613.000000\n",
      "mean         0.489253\n",
      "std          0.110525\n",
      "min          0.000000\n",
      "25%          0.414580\n",
      "50%          0.490430\n",
      "75%          0.565619\n",
      "max          1.000000\n",
      "dtype: float64\n"
     ]
    }
   ],
   "source": [
    "normalized_sqft_living = pd.Series(min_max_norm(log_sqft_living))\n",
    "\n",
    "print(\"Let's see our normalized standardized data!!\\n\")\n",
    "print(normalized_sqft_living.describe())"
   ]
  },
  {
   "cell_type": "code",
   "execution_count": 44,
   "metadata": {},
   "outputs": [
    {
     "name": "stdout",
     "output_type": "stream",
     "text": [
      "0    0.365131\n",
      "1    0.567651\n",
      "2    0.254066\n",
      "3    0.497153\n",
      "4    0.457046\n",
      "Name: sqft_living, dtype: float64\n"
     ]
    }
   ],
   "source": [
    "df_v2[\"sqft_living\"] = normalized_sqft_living\n",
    "\n",
    "print(df_v2.sqft_living.head(5))"
   ]
  },
  {
   "cell_type": "markdown",
   "metadata": {},
   "source": [
    "## Now that we know what we're doing let's do that for the rest of them"
   ]
  },
  {
   "cell_type": "code",
   "execution_count": 45,
   "metadata": {},
   "outputs": [
    {
     "name": "stderr",
     "output_type": "stream",
     "text": [
      "/home/ec2-user/anaconda3/envs/tensorflow_p36/lib/python3.6/site-packages/matplotlib/axes/_axes.py:6462: UserWarning: The 'normed' kwarg is deprecated, and has been replaced by the 'density' kwarg.\n",
      "  warnings.warn(\"The 'normed' kwarg is deprecated, and has been \"\n"
     ]
    },
    {
     "data": {
      "text/plain": [
       "Text(0.5,0,'Sqft Above')"
      ]
     },
     "execution_count": 45,
     "metadata": {},
     "output_type": "execute_result"
    },
    {
     "data": {
      "image/png": "[encoded data removed]",
      "text/plain": [
       "<Figure size 432x288 with 1 Axes>"
      ]
     },
     "metadata": {},
     "output_type": "display_data"
    }
   ],
   "source": [
    "# Assume Normal Distribution And See How It Looks\n",
    "\n",
    "sns.distplot(df_v2.sqft_above, bins=100, color=\"g\", kde=False)\n",
    "plt.title(\"Distribution of Sqft Above\")\n",
    "plt.ylabel(\"Number of Occurences\")\n",
    "plt.xlabel(\"Sqft Above\")"
   ]
  },
  {
   "cell_type": "code",
   "execution_count": 46,
   "metadata": {},
   "outputs": [
    {
     "name": "stderr",
     "output_type": "stream",
     "text": [
      "/home/ec2-user/anaconda3/envs/tensorflow_p36/lib/python3.6/site-packages/matplotlib/axes/_axes.py:6462: UserWarning: The 'normed' kwarg is deprecated, and has been replaced by the 'density' kwarg.\n",
      "  warnings.warn(\"The 'normed' kwarg is deprecated, and has been \"\n"
     ]
    },
    {
     "data": {
      "text/plain": [
       "Text(0.5,0,'Sqft Basement')"
      ]
     },
     "execution_count": 46,
     "metadata": {},
     "output_type": "execute_result"
    },
    {
     "data": {
      "image/png": "[encoded data removed]",
      "text/plain": [
       "<Figure size 432x288 with 1 Axes>"
      ]
     },
     "metadata": {},
     "output_type": "display_data"
    }
   ],
   "source": [
    "# Assume Normal Distribution And See How It Looks (Ignore 0 Values For Now)\n",
    "\n",
    "sns.distplot(df_v2.sqft_basement[df_v2.sqft_basement>0], bins=100, color=\"g\", kde=False)\n",
    "plt.title(\"Distribution of Sqft Basement\")\n",
    "plt.ylabel(\"Number of Occurences\")\n",
    "plt.xlabel(\"Sqft Basement\")"
   ]
  },
  {
   "cell_type": "code",
   "execution_count": 47,
   "metadata": {},
   "outputs": [
    {
     "name": "stderr",
     "output_type": "stream",
     "text": [
      "/home/ec2-user/anaconda3/envs/tensorflow_p36/lib/python3.6/site-packages/matplotlib/axes/_axes.py:6462: UserWarning: The 'normed' kwarg is deprecated, and has been replaced by the 'density' kwarg.\n",
      "  warnings.warn(\"The 'normed' kwarg is deprecated, and has been \"\n"
     ]
    },
    {
     "data": {
      "text/plain": [
       "Text(0.5,0,'Sqft Living 15')"
      ]
     },
     "execution_count": 47,
     "metadata": {},
     "output_type": "execute_result"
    },
    {
     "data": {
      "image/png": "[encoded data removed]",
      "text/plain": [
       "<Figure size 432x288 with 1 Axes>"
      ]
     },
     "metadata": {},
     "output_type": "display_data"
    }
   ],
   "source": [
    "# Assume Normal Distribution And See How It Looks\n",
    "\n",
    "sns.distplot(df_v2.sqft_living15, bins=100, color=\"g\", kde=False)\n",
    "plt.title(\"Distribution of Sqft Living 15\")\n",
    "plt.ylabel(\"Number of Occurences\")\n",
    "plt.xlabel(\"Sqft Living 15\")"
   ]
  },
  {
   "cell_type": "code",
   "execution_count": 48,
   "metadata": {},
   "outputs": [
    {
     "name": "stderr",
     "output_type": "stream",
     "text": [
      "/home/ec2-user/anaconda3/envs/tensorflow_p36/lib/python3.6/site-packages/matplotlib/axes/_axes.py:6462: UserWarning: The 'normed' kwarg is deprecated, and has been replaced by the 'density' kwarg.\n",
      "  warnings.warn(\"The 'normed' kwarg is deprecated, and has been \"\n"
     ]
    },
    {
     "data": {
      "text/plain": [
       "Text(0.5,0,'Sqft Above')"
      ]
     },
     "execution_count": 48,
     "metadata": {},
     "output_type": "execute_result"
    },
    {
     "data": {
      "image/png": "[encoded data removed]",
      "text/plain": [
       "<Figure size 432x288 with 1 Axes>"
      ]
     },
     "metadata": {},
     "output_type": "display_data"
    }
   ],
   "source": [
    "# Logarithmic Distribution Fits Better\n",
    "\n",
    "sns.distplot(np.log(df_v2.sqft_above), bins=100, color=\"g\", kde=False)\n",
    "plt.title(\"Distribution of Sqft Above\")\n",
    "plt.ylabel(\"Number of Occurences\")\n",
    "plt.xlabel(\"Sqft Above\")"
   ]
  },
  {
   "cell_type": "code",
   "execution_count": 49,
   "metadata": {},
   "outputs": [
    {
     "name": "stderr",
     "output_type": "stream",
     "text": [
      "/home/ec2-user/anaconda3/envs/tensorflow_p36/lib/python3.6/site-packages/matplotlib/axes/_axes.py:6462: UserWarning: The 'normed' kwarg is deprecated, and has been replaced by the 'density' kwarg.\n",
      "  warnings.warn(\"The 'normed' kwarg is deprecated, and has been \"\n"
     ]
    },
    {
     "data": {
      "text/plain": [
       "Text(0.5,0,'Sqft Basement')"
      ]
     },
     "execution_count": 49,
     "metadata": {},
     "output_type": "execute_result"
    },
    {
     "data": {
      "image/png": "[encoded data removed]",
      "text/plain": [
       "<Figure size 432x288 with 1 Axes>"
      ]
     },
     "metadata": {},
     "output_type": "display_data"
    }
   ],
   "source": [
    "# Square-Root Distribution Fits Better\n",
    "\n",
    "sns.distplot(np.sqrt(df_v2.sqft_basement[df_v2.sqft_basement>0]), bins=100, color=\"g\", kde=False)\n",
    "plt.title(\"Distribution of Sqft Basement\")\n",
    "plt.ylabel(\"Number of Occurences\")\n",
    "plt.xlabel(\"Sqft Basement\")"
   ]
  },
  {
   "cell_type": "code",
   "execution_count": 50,
   "metadata": {
    "scrolled": true
   },
   "outputs": [
    {
     "name": "stderr",
     "output_type": "stream",
     "text": [
      "/home/ec2-user/anaconda3/envs/tensorflow_p36/lib/python3.6/site-packages/matplotlib/axes/_axes.py:6462: UserWarning: The 'normed' kwarg is deprecated, and has been replaced by the 'density' kwarg.\n",
      "  warnings.warn(\"The 'normed' kwarg is deprecated, and has been \"\n"
     ]
    },
    {
     "data": {
      "text/plain": [
       "Text(0.5,0,'Sqft Living 15')"
      ]
     },
     "execution_count": 50,
     "metadata": {},
     "output_type": "execute_result"
    },
    {
     "data": {
      "image/png": "[encoded data removed]",
      "text/plain": [
       "<Figure size 432x288 with 1 Axes>"
      ]
     },
     "metadata": {},
     "output_type": "display_data"
    }
   ],
   "source": [
    "# SQRT Distribution Fit's Better And See How It Looks\n",
    "\n",
    "sns.distplot(np.sqrt(df_v2.sqft_living15), bins=100, color=\"g\", kde=False)\n",
    "plt.title(\"Distribution of Sqft Living 15\")\n",
    "plt.ylabel(\"Number of Occurences\")\n",
    "plt.xlabel(\"Sqft Living 15\")"
   ]
  },
  {
   "cell_type": "markdown",
   "metadata": {},
   "source": [
    "### Note we need to take the logarithmic distribution of SQFT_ABOVE and square_root distribution of  SQFT_BASEMENT and SQFT_LIVING15... We need to make sure we have no 0s in the data as log and sqrt can't handle 0s"
   ]
  },
  {
   "cell_type": "code",
   "execution_count": 51,
   "metadata": {},
   "outputs": [
    {
     "name": "stdout",
     "output_type": "stream",
     "text": [
      "Minimum value of sqft_above : 290\n",
      "\n",
      "Minimum value of sqft_basement : 0\n",
      "\n",
      "Minimum value of sqft_living15 : 399\n",
      "\n"
     ]
    }
   ],
   "source": [
    "print(\"Minimum value of sqft_above : {}\\n\".format(min(df_v2.sqft_above)))\n",
    "print(\"Minimum value of sqft_basement : {}\\n\".format(min(df_v2.sqft_basement)))\n",
    "print(\"Minimum value of sqft_living15 : {}\\n\".format(min(df_v2.sqft_living15)))"
   ]
  },
  {
   "cell_type": "markdown",
   "metadata": {},
   "source": [
    "**Therefore we need to add a very small number to all of the numbers in sqft basement (epsilon) before we take the sqrt**"
   ]
  },
  {
   "cell_type": "code",
   "execution_count": 52,
   "metadata": {},
   "outputs": [
    {
     "name": "stdout",
     "output_type": "stream",
     "text": [
      "New minimum for SQFT_BASEMENT is 0.001\n"
     ]
    }
   ],
   "source": [
    "epsilon = 0.001  # 1/100th of a foot will be added\n",
    "df_v2.sqft_basement = (df_v2.sqft_basement + epsilon)\n",
    "\n",
    "print(\"New minimum for SQFT_BASEMENT is {}\".format(min(df_v2.sqft_basement)))"
   ]
  },
  {
   "cell_type": "markdown",
   "metadata": {},
   "source": [
    "Now we can normalize the logarithmic and square root arrays and replace the original columns with the appropriate normalized/standardized columns"
   ]
  },
  {
   "cell_type": "code",
   "execution_count": 53,
   "metadata": {},
   "outputs": [
    {
     "name": "stdout",
     "output_type": "stream",
     "text": [
      "Description of normalized sqft_above\n",
      "count    21613.000000\n",
      "mean         0.495739\n",
      "std          0.122895\n",
      "min          0.000000\n",
      "25%          0.405739\n",
      "50%          0.483543\n",
      "75%          0.583642\n",
      "max          1.000000\n",
      "dtype: float64\n",
      "\n",
      "Description of normalized sqft_basement\n",
      "count    21613.000000\n",
      "mean         0.148077\n",
      "std          0.196148\n",
      "min          0.000000\n",
      "25%          0.000000\n",
      "50%          0.000000\n",
      "75%          0.340556\n",
      "max          1.000000\n",
      "dtype: float64\n",
      "\n",
      "Description of normalized sqft_living15\n",
      "count    21613.000000\n",
      "mean         0.407704\n",
      "std          0.125035\n",
      "min          0.000000\n",
      "25%          0.316607\n",
      "50%          0.389611\n",
      "75%          0.486241\n",
      "max          1.000000\n",
      "dtype: float64\n"
     ]
    }
   ],
   "source": [
    "log_sqft_above = np.log(df_v2.sqft_above)\n",
    "sqrt_sqft_basement = np.sqrt(df_v2.sqft_basement)\n",
    "sqrt_sqft_living15 = np.sqrt(df_v2.sqft_living15)\n",
    "\n",
    "norm_sqft_above = pd.Series(min_max_norm(log_sqft_above))\n",
    "norm_sqft_basement = pd.Series(min_max_norm(sqrt_sqft_basement))\n",
    "norm_sqft_living15 = pd.Series(min_max_norm(sqrt_sqft_living15))\n",
    "\n",
    "print(\"Description of normalized sqft_above\")\n",
    "print(norm_sqft_above.describe())\n",
    "print()\n",
    "print(\"Description of normalized sqft_basement\")\n",
    "print(norm_sqft_basement.describe())\n",
    "print()\n",
    "print(\"Description of normalized sqft_living15\")\n",
    "print(norm_sqft_living15.describe())"
   ]
  },
  {
   "cell_type": "code",
   "execution_count": 54,
   "metadata": {},
   "outputs": [
    {
     "name": "stdout",
     "output_type": "stream",
     "text": [
      "0    0.403314\n",
      "1    0.578392\n",
      "2    0.280635\n",
      "3    0.369769\n",
      "4    0.504841\n",
      "Name: sqft_above, dtype: float64\n",
      "0    0.000000\n",
      "1    0.287752\n",
      "2    0.000000\n",
      "3    0.434250\n",
      "4    0.000000\n",
      "Name: sqft_basement, dtype: float64\n",
      "0    0.282703\n",
      "1    0.359258\n",
      "2    0.546990\n",
      "3    0.287330\n",
      "4    0.381641\n",
      "Name: sqft_living15, dtype: float64\n"
     ]
    }
   ],
   "source": [
    "df_v2.sqft_above = norm_sqft_above\n",
    "df_v2.sqft_basement = norm_sqft_basement\n",
    "df_v2.sqft_living15 = norm_sqft_living15\n",
    "\n",
    "print(df_v2.sqft_above.head(5))\n",
    "print(df_v2.sqft_basement.head(5))\n",
    "print(df_v2.sqft_living15.head(5))"
   ]
  },
  {
   "cell_type": "markdown",
   "metadata": {},
   "source": [
    "# Let's Check Where We're At\n",
    "~~DATE -- We can split into 2014 and 2015~~\n",
    "\n",
    "~~PRICE -- Normalize by dividing 50000~~\n",
    "\n",
    "~~BEDROOMS -- Categorize~~\n",
    "\n",
    "~~BATHROOMS -- Categorize~~\n",
    "\n",
    "~~SQFT_LIVING -- Min/Max Normalization~~\n",
    "\n",
    "~~FLOORS -- Categorize~~\n",
    "\n",
    "~~WATERFRONT -- Leave Alone (Already Binary)~~\n",
    "\n",
    "~~VIEW -- Leave Alone (Already Binary)~~\n",
    "\n",
    "~~SQFT_ABOVE -- Min/Max Normalization~~\n",
    "\n",
    "~~SQFT_BASEMENT -- Min/Max Normalization~~\n",
    "\n",
    "~~SQFT_LIVING15 -- Min/Max Normalization~~\n",
    "\n",
    "LATITUDE -- Categorize (Or Try)\n",
    "\n",
    "**All that's left is latitude ... let's take a look**"
   ]
  },
  {
   "cell_type": "code",
   "execution_count": 55,
   "metadata": {},
   "outputs": [
    {
     "name": "stdout",
     "output_type": "stream",
     "text": [
      "count    21613.000000\n",
      "mean        47.560053\n",
      "std          0.138564\n",
      "min         47.155900\n",
      "25%         47.471000\n",
      "50%         47.571800\n",
      "75%         47.678000\n",
      "max         47.777600\n",
      "Name: lat, dtype: float64\n",
      "\n",
      "There are 5034 unique latitude values\n"
     ]
    }
   ],
   "source": [
    "print(df_v2.lat.describe())\n",
    "print(\"\\nThere are {} unique latitude values\".format(len(np.unique(df_v2.lat))))"
   ]
  },
  {
   "cell_type": "code",
   "execution_count": 56,
   "metadata": {},
   "outputs": [
    {
     "data": {
      "text/plain": [
       "Text(0.5,0,'Latitude Coordinate')"
      ]
     },
     "execution_count": 56,
     "metadata": {},
     "output_type": "execute_result"
    },
    {
     "data": {
      "image/png": "[encoded data removed]",
      "text/plain": [
       "<Figure size 432x288 with 1 Axes>"
      ]
     },
     "metadata": {},
     "output_type": "display_data"
    }
   ],
   "source": [
    "sns.regplot(x=df_v2.lat[df_v2.price<30], y=df_v2.price[df_v2.price<30])\n",
    "plt.title(\"Correlation Between Latitude and Price (House Prices Under 3 Million)\")\n",
    "plt.ylabel(\"House Prices in Hundreds of Thousands Of Dollars\")\n",
    "plt.xlabel(\"Latitude Coordinate\")"
   ]
  },
  {
   "cell_type": "markdown",
   "metadata": {},
   "source": [
    "## There appears to be a slight correlation... so let's see if we can normalize"
   ]
  },
  {
   "cell_type": "code",
   "execution_count": 57,
   "metadata": {},
   "outputs": [
    {
     "name": "stderr",
     "output_type": "stream",
     "text": [
      "/home/ec2-user/anaconda3/envs/tensorflow_p36/lib/python3.6/site-packages/matplotlib/axes/_axes.py:6462: UserWarning: The 'normed' kwarg is deprecated, and has been replaced by the 'density' kwarg.\n",
      "  warnings.warn(\"The 'normed' kwarg is deprecated, and has been \"\n"
     ]
    },
    {
     "data": {
      "text/plain": [
       "Text(0.5,0,'Latitude')"
      ]
     },
     "execution_count": 57,
     "metadata": {},
     "output_type": "execute_result"
    },
    {
     "data": {
      "image/png": "[encoded data removed]",
      "text/plain": [
       "<Figure size 432x288 with 1 Axes>"
      ]
     },
     "metadata": {},
     "output_type": "display_data"
    }
   ],
   "source": [
    "# Check Normal Distribution Fit For Data\n",
    "\n",
    "sns.distplot((df_v2.lat), bins=100, color=\"g\", kde=False)\n",
    "plt.title(\"Distribution of Latitude Data\")\n",
    "plt.ylabel(\"Number of Occurences\")\n",
    "plt.xlabel(\"Latitude\")"
   ]
  },
  {
   "cell_type": "markdown",
   "metadata": {},
   "source": [
    "## It would appear that normalization won't work because our data isn't normal... instead we will bucket the latitude data into categories at the first decimal point (47.2, 47.3, etc.)"
   ]
  },
  {
   "cell_type": "code",
   "execution_count": 58,
   "metadata": {},
   "outputs": [
    {
     "name": "stdout",
     "output_type": "stream",
     "text": [
      "[47.2 47.3 47.4 47.5 47.6 47.7 47.8]\n",
      "\n",
      "There are 7 unique latitude categories\n"
     ]
    }
   ],
   "source": [
    "rounded_latitude = round(df_v2.lat,1)\n",
    "print(np.unique(rounded_latitude))\n",
    "print(\"\\nThere are {} unique latitude categories\".format(len(np.unique(rounded_latitude))))"
   ]
  },
  {
   "cell_type": "code",
   "execution_count": 59,
   "metadata": {},
   "outputs": [
    {
     "name": "stdout",
     "output_type": "stream",
     "text": [
      "ORIGINAL 5 EXAMPLES OF LATITUDES:\n",
      "0    47.5\n",
      "1    47.7\n",
      "2    47.7\n",
      "3    47.5\n",
      "4    47.6\n",
      "Name: lat, dtype: float64\n",
      "\n",
      "INTEGER ENCODED 5 EXAMPLES OF LATITUDES:\n",
      "[3 5 5 3 4]\n",
      "\n",
      "ONE_HOT ENCODED 5 EXAMPLES OF LATITUDES:\n",
      "[[0. 0. 0. 1. 0. 0. 0.]\n",
      " [0. 0. 0. 0. 0. 1. 0.]\n",
      " [0. 0. 0. 0. 0. 1. 0.]\n",
      " [0. 0. 0. 1. 0. 0. 0.]\n",
      " [0. 0. 0. 0. 1. 0. 0.]]\n",
      "\n",
      "We now have 7 columns for the 21613 examples derived from latitude categories\n"
     ]
    }
   ],
   "source": [
    "print(\"ORIGINAL 5 EXAMPLES OF LATITUDES:\\n{}\".format(rounded_latitude[0:5]))\n",
    "\n",
    "# INTEGER ENCODING\n",
    "integer_encoded_latitudes = label_encoder.fit_transform(rounded_latitude)\n",
    "\n",
    "# Print Check for Integer Encoding\n",
    "print(\"\\nINTEGER ENCODED 5 EXAMPLES OF LATITUDES:\\n{}\".format(integer_encoded_latitudes[0:5]))\n",
    "\n",
    "# ONE_HOT ENCODING\n",
    "one_hot_encoded_latitudes = to_categorical(integer_encoded_latitudes)\n",
    "\n",
    "# Print Check for Integer Encoding\n",
    "print(\"\\nONE_HOT ENCODED 5 EXAMPLES OF LATITUDES:\\n{}\".format(one_hot_encoded_latitudes[0:5]))\n",
    "\n",
    "print(\"\\nWe now have {} columns for the {} examples derived from latitude categories\".format(np.shape(one_hot_encoded_latitudes)[1], np.shape(one_hot_encoded_latitudes)[0]))\n"
   ]
  },
  {
   "cell_type": "code",
   "execution_count": 60,
   "metadata": {},
   "outputs": [
    {
     "name": "stdout",
     "output_type": "stream",
     "text": [
      "['47.2_Latitude', '47.3_Latitude', '47.4_Latitude', '47.5_Latitude', '47.6_Latitude', '47.7_Latitude', '47.8_Latitude']\n"
     ]
    }
   ],
   "source": [
    "# Generate New Column Titles\n",
    "latitude_columns = []\n",
    "for unique_latitude in np.unique(rounded_latitude):\n",
    "    latitude_columns.append(str(unique_latitude)+\"_Latitude\")\n",
    "    \n",
    "print(latitude_columns)"
   ]
  },
  {
   "cell_type": "code",
   "execution_count": 61,
   "metadata": {
    "scrolled": true
   },
   "outputs": [
    {
     "name": "stdout",
     "output_type": "stream",
     "text": [
      "   price  sqft_living  waterfront  view  grade  sqft_above  sqft_basement  \\\n",
      "0  2.219     0.365131           0     0      7    0.403314       0.000000   \n",
      "1  5.380     0.567651           0     0      7    0.578392       0.287752   \n",
      "2  1.800     0.254066           0     0      6    0.280635       0.000000   \n",
      "3  6.040     0.497153           0     0      7    0.369769       0.434250   \n",
      "4  5.100     0.457046           0     0      8    0.504841       0.000000   \n",
      "\n",
      "       lat  sqft_living15  Date_2014      ...        2.5_Floors  3.0_Floors  \\\n",
      "0  47.5112       0.282703        1.0      ...               0.0         0.0   \n",
      "1  47.7210       0.359258        1.0      ...               0.0         0.0   \n",
      "2  47.7379       0.546990        0.0      ...               0.0         0.0   \n",
      "3  47.5208       0.287330        1.0      ...               0.0         0.0   \n",
      "4  47.6168       0.381641        0.0      ...               0.0         0.0   \n",
      "\n",
      "   3.5_Floors  47.2_Latitude  47.3_Latitude  47.4_Latitude  47.5_Latitude  \\\n",
      "0         0.0            0.0            0.0            0.0            1.0   \n",
      "1         0.0            0.0            0.0            0.0            0.0   \n",
      "2         0.0            0.0            0.0            0.0            0.0   \n",
      "3         0.0            0.0            0.0            0.0            1.0   \n",
      "4         0.0            0.0            0.0            0.0            0.0   \n",
      "\n",
      "   47.6_Latitude  47.7_Latitude  47.8_Latitude  \n",
      "0            0.0            0.0            0.0  \n",
      "1            0.0            1.0            0.0  \n",
      "2            0.0            1.0            0.0  \n",
      "3            0.0            0.0            0.0  \n",
      "4            1.0            0.0            0.0  \n",
      "\n",
      "[5 rows x 67 columns]\n",
      "\n",
      "Index(['price', 'sqft_living', 'waterfront', 'view', 'grade', 'sqft_above',\n",
      "       'sqft_basement', 'lat', 'sqft_living15', 'Date_2014', 'Date_2015',\n",
      "       '0_Bedroom', '1_Bedroom', '2_Bedroom', '3_Bedroom', '4_Bedroom',\n",
      "       '5_Bedroom', '6_Bedroom', '7_Bedroom', '8_Bedroom', '9_Bedroom',\n",
      "       '10_Bedroom', '11_Bedroom', '33_Bedroom', '0.0_Bathroom',\n",
      "       '0.5_Bathroom', '0.75_Bathroom', '1.0_Bathroom', '1.25_Bathroom',\n",
      "       '1.5_Bathroom', '1.75_Bathroom', '2.0_Bathroom', '2.25_Bathroom',\n",
      "       '2.5_Bathroom', '2.75_Bathroom', '3.0_Bathroom', '3.25_Bathroom',\n",
      "       '3.5_Bathroom', '3.75_Bathroom', '4.0_Bathroom', '4.25_Bathroom',\n",
      "       '4.5_Bathroom', '4.75_Bathroom', '5.0_Bathroom', '5.25_Bathroom',\n",
      "       '5.5_Bathroom', '5.75_Bathroom', '6.0_Bathroom', '6.25_Bathroom',\n",
      "       '6.5_Bathroom', '6.75_Bathroom', '7.5_Bathroom', '7.75_Bathroom',\n",
      "       '8.0_Bathroom', '1.0_Floors', '1.5_Floors', '2.0_Floors', '2.5_Floors',\n",
      "       '3.0_Floors', '3.5_Floors', '47.2_Latitude', '47.3_Latitude',\n",
      "       '47.4_Latitude', '47.5_Latitude', '47.6_Latitude', '47.7_Latitude',\n",
      "       '47.8_Latitude'],\n",
      "      dtype='object')\n"
     ]
    }
   ],
   "source": [
    "# We now do what we did before ... generate new columns for all of the latitudes\n",
    "\n",
    "for i, column in enumerate(latitude_columns):\n",
    "    df_v2[column] = one_hot_encoded_latitudes[:,i]\n",
    "    \n",
    "print(df_v2.head(5))\n",
    "print()\n",
    "print(df_v2.columns)"
   ]
  },
  {
   "cell_type": "code",
   "execution_count": 62,
   "metadata": {
    "scrolled": true
   },
   "outputs": [
    {
     "name": "stdout",
     "output_type": "stream",
     "text": [
      "Index(['price', 'sqft_living', 'waterfront', 'view', 'grade', 'sqft_above',\n",
      "       'sqft_basement', 'sqft_living15', 'Date_2014', 'Date_2015', '0_Bedroom',\n",
      "       '1_Bedroom', '2_Bedroom', '3_Bedroom', '4_Bedroom', '5_Bedroom',\n",
      "       '6_Bedroom', '7_Bedroom', '8_Bedroom', '9_Bedroom', '10_Bedroom',\n",
      "       '11_Bedroom', '33_Bedroom', '0.0_Bathroom', '0.5_Bathroom',\n",
      "       '0.75_Bathroom', '1.0_Bathroom', '1.25_Bathroom', '1.5_Bathroom',\n",
      "       '1.75_Bathroom', '2.0_Bathroom', '2.25_Bathroom', '2.5_Bathroom',\n",
      "       '2.75_Bathroom', '3.0_Bathroom', '3.25_Bathroom', '3.5_Bathroom',\n",
      "       '3.75_Bathroom', '4.0_Bathroom', '4.25_Bathroom', '4.5_Bathroom',\n",
      "       '4.75_Bathroom', '5.0_Bathroom', '5.25_Bathroom', '5.5_Bathroom',\n",
      "       '5.75_Bathroom', '6.0_Bathroom', '6.25_Bathroom', '6.5_Bathroom',\n",
      "       '6.75_Bathroom', '7.5_Bathroom', '7.75_Bathroom', '8.0_Bathroom',\n",
      "       '1.0_Floors', '1.5_Floors', '2.0_Floors', '2.5_Floors', '3.0_Floors',\n",
      "       '3.5_Floors', '47.2_Latitude', '47.3_Latitude', '47.4_Latitude',\n",
      "       '47.5_Latitude', '47.6_Latitude', '47.7_Latitude', '47.8_Latitude'],\n",
      "      dtype='object')\n"
     ]
    }
   ],
   "source": [
    "# Now we get rid of the original floors columns\n",
    "df_v2 = df_v2.drop(\"lat\", axis=1)\n",
    "\n",
    "print(df_v2.columns)"
   ]
  },
  {
   "cell_type": "markdown",
   "metadata": {},
   "source": [
    "## Since grade is distributed between 0 and 10 we just divide all the grades by 10 to normalize them"
   ]
  },
  {
   "cell_type": "code",
   "execution_count": 63,
   "metadata": {
    "scrolled": true
   },
   "outputs": [
    {
     "name": "stdout",
     "output_type": "stream",
     "text": [
      "0    0.7\n",
      "1    0.7\n",
      "2    0.6\n",
      "3    0.7\n",
      "4    0.8\n",
      "Name: grade, dtype: float64\n"
     ]
    }
   ],
   "source": [
    "df_v2.grade = df_v2.grade/10\n",
    "print(df_v2.grade.head(5))"
   ]
  },
  {
   "cell_type": "code",
   "execution_count": 64,
   "metadata": {},
   "outputs": [],
   "source": [
    "# Save a final copy of the dataframe as df_final\n",
    "df_final = df_v2.copy()\n",
    "df_v3 = df_v2.copy()"
   ]
  },
  {
   "cell_type": "markdown",
   "metadata": {},
   "source": [
    "## To Make Our Model Fit Better We Should Get Rid Of The Top 5% As They Are Extreme Outliers (Tried Making Price Logarithmic First)"
   ]
  },
  {
   "cell_type": "code",
   "execution_count": 65,
   "metadata": {},
   "outputs": [],
   "source": [
    "df_v3 = df_v3[df_v3.price < df_v3.price.quantile(0.93)]"
   ]
  },
  {
   "cell_type": "code",
   "execution_count": 66,
   "metadata": {},
   "outputs": [],
   "source": [
    "pca = PCA(n_components=2)"
   ]
  },
  {
   "cell_type": "code",
   "execution_count": 67,
   "metadata": {},
   "outputs": [],
   "source": [
    "principalComponents = pca.fit_transform(df_v3.values[:, 1:])"
   ]
  },
  {
   "cell_type": "code",
   "execution_count": 68,
   "metadata": {},
   "outputs": [
    {
     "ename": "KeyError",
     "evalue": "'[-1.11206793 -1.10856641 -1.10832203 ...  1.50360772  1.50405155\\n  1.51721885] not in index'",
     "output_type": "error",
     "traceback": [
      "\u001b[0;31m---------------------------------------------------------------------------\u001b[0m",
      "\u001b[0;31mKeyError\u001b[0m                                  Traceback (most recent call last)",
      "\u001b[0;32m<ipython-input-68-229389a6cb2a>\u001b[0m in \u001b[0;36m<module>\u001b[0;34m()\u001b[0m\n\u001b[0;32m----> 1\u001b[0;31m \u001b[0msns\u001b[0m\u001b[0;34m.\u001b[0m\u001b[0mlmplot\u001b[0m\u001b[0;34m(\u001b[0m\u001b[0mx\u001b[0m\u001b[0;34m=\u001b[0m\u001b[0mprincipalComponents\u001b[0m\u001b[0;34m[\u001b[0m\u001b[0;34m:\u001b[0m\u001b[0;34m,\u001b[0m\u001b[0;36m0\u001b[0m\u001b[0;34m]\u001b[0m\u001b[0;34m,\u001b[0m \u001b[0my\u001b[0m\u001b[0;34m=\u001b[0m\u001b[0mprincipalComponents\u001b[0m\u001b[0;34m[\u001b[0m\u001b[0;34m:\u001b[0m\u001b[0;34m,\u001b[0m\u001b[0;36m1\u001b[0m\u001b[0;34m]\u001b[0m\u001b[0;34m,\u001b[0m \u001b[0mdata\u001b[0m\u001b[0;34m=\u001b[0m\u001b[0mdf_v3\u001b[0m\u001b[0;34m,\u001b[0m \u001b[0mhue\u001b[0m\u001b[0;34m=\u001b[0m\u001b[0mdf_v3\u001b[0m\u001b[0;34m.\u001b[0m\u001b[0mprice\u001b[0m\u001b[0;34m>\u001b[0m\u001b[0;36m5\u001b[0m\u001b[0;34m)\u001b[0m\u001b[0;34m\u001b[0m\u001b[0m\n\u001b[0m\u001b[1;32m      2\u001b[0m \u001b[0mplt\u001b[0m\u001b[0;34m.\u001b[0m\u001b[0mtitle\u001b[0m\u001b[0;34m(\u001b[0m\u001b[0;34m\"Correlation Between Principle Component and Price\"\u001b[0m\u001b[0;34m)\u001b[0m\u001b[0;34m\u001b[0m\u001b[0m\n\u001b[1;32m      3\u001b[0m \u001b[0mplt\u001b[0m\u001b[0;34m.\u001b[0m\u001b[0mylabel\u001b[0m\u001b[0;34m(\u001b[0m\u001b[0;34m\"House Prices in Hundreds of Thousands Of Dollars\"\u001b[0m\u001b[0;34m)\u001b[0m\u001b[0;34m\u001b[0m\u001b[0m\n\u001b[1;32m      4\u001b[0m \u001b[0mplt\u001b[0m\u001b[0;34m.\u001b[0m\u001b[0mxlabel\u001b[0m\u001b[0;34m(\u001b[0m\u001b[0;34m\"Principle Component\"\u001b[0m\u001b[0;34m)\u001b[0m\u001b[0;34m\u001b[0m\u001b[0m\n",
      "\u001b[0;32m~/anaconda3/envs/tensorflow_p36/lib/python3.6/site-packages/seaborn/regression.py\u001b[0m in \u001b[0;36mlmplot\u001b[0;34m(x, y, data, hue, col, row, palette, col_wrap, size, aspect, markers, sharex, sharey, hue_order, col_order, row_order, legend, legend_out, x_estimator, x_bins, x_ci, scatter, fit_reg, ci, n_boot, units, order, logistic, lowess, robust, logx, x_partial, y_partial, truncate, x_jitter, y_jitter, scatter_kws, line_kws)\u001b[0m\n\u001b[1;32m    550\u001b[0m     \u001b[0mneed_cols\u001b[0m \u001b[0;34m=\u001b[0m \u001b[0;34m[\u001b[0m\u001b[0mx\u001b[0m\u001b[0;34m,\u001b[0m \u001b[0my\u001b[0m\u001b[0;34m,\u001b[0m \u001b[0mhue\u001b[0m\u001b[0;34m,\u001b[0m \u001b[0mcol\u001b[0m\u001b[0;34m,\u001b[0m \u001b[0mrow\u001b[0m\u001b[0;34m,\u001b[0m \u001b[0munits\u001b[0m\u001b[0;34m,\u001b[0m \u001b[0mx_partial\u001b[0m\u001b[0;34m,\u001b[0m \u001b[0my_partial\u001b[0m\u001b[0;34m]\u001b[0m\u001b[0;34m\u001b[0m\u001b[0m\n\u001b[1;32m    551\u001b[0m     \u001b[0mcols\u001b[0m \u001b[0;34m=\u001b[0m \u001b[0mnp\u001b[0m\u001b[0;34m.\u001b[0m\u001b[0munique\u001b[0m\u001b[0;34m(\u001b[0m\u001b[0;34m[\u001b[0m\u001b[0ma\u001b[0m \u001b[0;32mfor\u001b[0m \u001b[0ma\u001b[0m \u001b[0;32min\u001b[0m \u001b[0mneed_cols\u001b[0m \u001b[0;32mif\u001b[0m \u001b[0ma\u001b[0m \u001b[0;32mis\u001b[0m \u001b[0;32mnot\u001b[0m \u001b[0;32mNone\u001b[0m\u001b[0;34m]\u001b[0m\u001b[0;34m)\u001b[0m\u001b[0;34m.\u001b[0m\u001b[0mtolist\u001b[0m\u001b[0;34m(\u001b[0m\u001b[0;34m)\u001b[0m\u001b[0;34m\u001b[0m\u001b[0m\n\u001b[0;32m--> 552\u001b[0;31m     \u001b[0mdata\u001b[0m \u001b[0;34m=\u001b[0m \u001b[0mdata\u001b[0m\u001b[0;34m[\u001b[0m\u001b[0mcols\u001b[0m\u001b[0;34m]\u001b[0m\u001b[0;34m\u001b[0m\u001b[0m\n\u001b[0m\u001b[1;32m    553\u001b[0m \u001b[0;34m\u001b[0m\u001b[0m\n\u001b[1;32m    554\u001b[0m     \u001b[0;31m# Initialize the grid\u001b[0m\u001b[0;34m\u001b[0m\u001b[0;34m\u001b[0m\u001b[0m\n",
      "\u001b[0;32m~/anaconda3/envs/tensorflow_p36/lib/python3.6/site-packages/pandas/core/frame.py\u001b[0m in \u001b[0;36m__getitem__\u001b[0;34m(self, key)\u001b[0m\n\u001b[1;32m   2131\u001b[0m         \u001b[0;32mif\u001b[0m \u001b[0misinstance\u001b[0m\u001b[0;34m(\u001b[0m\u001b[0mkey\u001b[0m\u001b[0;34m,\u001b[0m \u001b[0;34m(\u001b[0m\u001b[0mSeries\u001b[0m\u001b[0;34m,\u001b[0m \u001b[0mnp\u001b[0m\u001b[0;34m.\u001b[0m\u001b[0mndarray\u001b[0m\u001b[0;34m,\u001b[0m \u001b[0mIndex\u001b[0m\u001b[0;34m,\u001b[0m \u001b[0mlist\u001b[0m\u001b[0;34m)\u001b[0m\u001b[0;34m)\u001b[0m\u001b[0;34m:\u001b[0m\u001b[0;34m\u001b[0m\u001b[0m\n\u001b[1;32m   2132\u001b[0m             \u001b[0;31m# either boolean or fancy integer index\u001b[0m\u001b[0;34m\u001b[0m\u001b[0;34m\u001b[0m\u001b[0m\n\u001b[0;32m-> 2133\u001b[0;31m             \u001b[0;32mreturn\u001b[0m \u001b[0mself\u001b[0m\u001b[0;34m.\u001b[0m\u001b[0m_getitem_array\u001b[0m\u001b[0;34m(\u001b[0m\u001b[0mkey\u001b[0m\u001b[0;34m)\u001b[0m\u001b[0;34m\u001b[0m\u001b[0m\n\u001b[0m\u001b[1;32m   2134\u001b[0m         \u001b[0;32melif\u001b[0m \u001b[0misinstance\u001b[0m\u001b[0;34m(\u001b[0m\u001b[0mkey\u001b[0m\u001b[0;34m,\u001b[0m \u001b[0mDataFrame\u001b[0m\u001b[0;34m)\u001b[0m\u001b[0;34m:\u001b[0m\u001b[0;34m\u001b[0m\u001b[0m\n\u001b[1;32m   2135\u001b[0m             \u001b[0;32mreturn\u001b[0m \u001b[0mself\u001b[0m\u001b[0;34m.\u001b[0m\u001b[0m_getitem_frame\u001b[0m\u001b[0;34m(\u001b[0m\u001b[0mkey\u001b[0m\u001b[0;34m)\u001b[0m\u001b[0;34m\u001b[0m\u001b[0m\n",
      "\u001b[0;32m~/anaconda3/envs/tensorflow_p36/lib/python3.6/site-packages/pandas/core/frame.py\u001b[0m in \u001b[0;36m_getitem_array\u001b[0;34m(self, key)\u001b[0m\n\u001b[1;32m   2175\u001b[0m             \u001b[0;32mreturn\u001b[0m \u001b[0mself\u001b[0m\u001b[0;34m.\u001b[0m\u001b[0m_take\u001b[0m\u001b[0;34m(\u001b[0m\u001b[0mindexer\u001b[0m\u001b[0;34m,\u001b[0m \u001b[0maxis\u001b[0m\u001b[0;34m=\u001b[0m\u001b[0;36m0\u001b[0m\u001b[0;34m,\u001b[0m \u001b[0mconvert\u001b[0m\u001b[0;34m=\u001b[0m\u001b[0;32mFalse\u001b[0m\u001b[0;34m)\u001b[0m\u001b[0;34m\u001b[0m\u001b[0m\n\u001b[1;32m   2176\u001b[0m         \u001b[0;32melse\u001b[0m\u001b[0;34m:\u001b[0m\u001b[0;34m\u001b[0m\u001b[0m\n\u001b[0;32m-> 2177\u001b[0;31m             \u001b[0mindexer\u001b[0m \u001b[0;34m=\u001b[0m \u001b[0mself\u001b[0m\u001b[0;34m.\u001b[0m\u001b[0mloc\u001b[0m\u001b[0;34m.\u001b[0m\u001b[0m_convert_to_indexer\u001b[0m\u001b[0;34m(\u001b[0m\u001b[0mkey\u001b[0m\u001b[0;34m,\u001b[0m \u001b[0maxis\u001b[0m\u001b[0;34m=\u001b[0m\u001b[0;36m1\u001b[0m\u001b[0;34m)\u001b[0m\u001b[0;34m\u001b[0m\u001b[0m\n\u001b[0m\u001b[1;32m   2178\u001b[0m             \u001b[0;32mreturn\u001b[0m \u001b[0mself\u001b[0m\u001b[0;34m.\u001b[0m\u001b[0m_take\u001b[0m\u001b[0;34m(\u001b[0m\u001b[0mindexer\u001b[0m\u001b[0;34m,\u001b[0m \u001b[0maxis\u001b[0m\u001b[0;34m=\u001b[0m\u001b[0;36m1\u001b[0m\u001b[0;34m,\u001b[0m \u001b[0mconvert\u001b[0m\u001b[0;34m=\u001b[0m\u001b[0;32mTrue\u001b[0m\u001b[0;34m)\u001b[0m\u001b[0;34m\u001b[0m\u001b[0m\n\u001b[1;32m   2179\u001b[0m \u001b[0;34m\u001b[0m\u001b[0m\n",
      "\u001b[0;32m~/anaconda3/envs/tensorflow_p36/lib/python3.6/site-packages/pandas/core/indexing.py\u001b[0m in \u001b[0;36m_convert_to_indexer\u001b[0;34m(self, obj, axis, is_setter)\u001b[0m\n\u001b[1;32m   1267\u001b[0m                 \u001b[0;32mif\u001b[0m \u001b[0mmask\u001b[0m\u001b[0;34m.\u001b[0m\u001b[0many\u001b[0m\u001b[0;34m(\u001b[0m\u001b[0;34m)\u001b[0m\u001b[0;34m:\u001b[0m\u001b[0;34m\u001b[0m\u001b[0m\n\u001b[1;32m   1268\u001b[0m                     raise KeyError('{mask} not in index'\n\u001b[0;32m-> 1269\u001b[0;31m                                    .format(mask=objarr[mask]))\n\u001b[0m\u001b[1;32m   1270\u001b[0m \u001b[0;34m\u001b[0m\u001b[0m\n\u001b[1;32m   1271\u001b[0m                 \u001b[0;32mreturn\u001b[0m \u001b[0m_values_from_object\u001b[0m\u001b[0;34m(\u001b[0m\u001b[0mindexer\u001b[0m\u001b[0;34m)\u001b[0m\u001b[0;34m\u001b[0m\u001b[0m\n",
      "\u001b[0;31mKeyError\u001b[0m: '[-1.11206793 -1.10856641 -1.10832203 ...  1.50360772  1.50405155\\n  1.51721885] not in index'"
     ]
    }
   ],
   "source": [
    "sns.lmplot(x=principalComponents[:,0], y=principalComponents[:,1], data=df_v3, hue=df_v3.price>5)\n",
    "plt.title(\"Correlation Between Principle Component and Price\")\n",
    "plt.ylabel(\"House Prices in Hundreds of Thousands Of Dollars\")\n",
    "plt.xlabel(\"Principle Component\")"
   ]
  },
  {
   "cell_type": "code",
   "execution_count": null,
   "metadata": {},
   "outputs": [],
   "source": []
  },
  {
   "cell_type": "markdown",
   "metadata": {},
   "source": [
    "## Onto the MODEL!"
   ]
  },
  {
   "cell_type": "code",
   "execution_count": 69,
   "metadata": {},
   "outputs": [],
   "source": [
    "df_baseline = df_v1.drop('date', axis=1)"
   ]
  },
  {
   "cell_type": "code",
   "execution_count": 70,
   "metadata": {},
   "outputs": [
    {
     "name": "stdout",
     "output_type": "stream",
     "text": [
      "Index(['price', 'bedrooms', 'bathrooms', 'sqft_living', 'floors', 'waterfront',\n",
      "       'view', 'grade', 'sqft_above', 'sqft_basement', 'lat', 'sqft_living15'],\n",
      "      dtype='object')\n"
     ]
    }
   ],
   "source": [
    "print(df_baseline.columns)\n",
    "Y_baseline = df_baseline.values[:,0]\n",
    "X_baseline = df_baseline.values[:,1:]"
   ]
  },
  {
   "cell_type": "code",
   "execution_count": 71,
   "metadata": {},
   "outputs": [
    {
     "name": "stdout",
     "output_type": "stream",
     "text": [
      "Index(['price', 'sqft_living', 'waterfront', 'view', 'grade', 'sqft_above',\n",
      "       'sqft_basement', 'sqft_living15', 'Date_2014', 'Date_2015', '0_Bedroom',\n",
      "       '1_Bedroom', '2_Bedroom', '3_Bedroom', '4_Bedroom', '5_Bedroom',\n",
      "       '6_Bedroom', '7_Bedroom', '8_Bedroom', '9_Bedroom', '10_Bedroom',\n",
      "       '11_Bedroom', '33_Bedroom', '0.0_Bathroom', '0.5_Bathroom',\n",
      "       '0.75_Bathroom', '1.0_Bathroom', '1.25_Bathroom', '1.5_Bathroom',\n",
      "       '1.75_Bathroom', '2.0_Bathroom', '2.25_Bathroom', '2.5_Bathroom',\n",
      "       '2.75_Bathroom', '3.0_Bathroom', '3.25_Bathroom', '3.5_Bathroom',\n",
      "       '3.75_Bathroom', '4.0_Bathroom', '4.25_Bathroom', '4.5_Bathroom',\n",
      "       '4.75_Bathroom', '5.0_Bathroom', '5.25_Bathroom', '5.5_Bathroom',\n",
      "       '5.75_Bathroom', '6.0_Bathroom', '6.25_Bathroom', '6.5_Bathroom',\n",
      "       '6.75_Bathroom', '7.5_Bathroom', '7.75_Bathroom', '8.0_Bathroom',\n",
      "       '1.0_Floors', '1.5_Floors', '2.0_Floors', '2.5_Floors', '3.0_Floors',\n",
      "       '3.5_Floors', '47.2_Latitude', '47.3_Latitude', '47.4_Latitude',\n",
      "       '47.5_Latitude', '47.6_Latitude', '47.7_Latitude', '47.8_Latitude'],\n",
      "      dtype='object')\n"
     ]
    }
   ],
   "source": [
    "print(df_v3.columns)\n",
    "\n",
    "Y_intermediate2 = df_v3.values[:,0]\n",
    "X_intermediate2 = df_v3.values[:,1:]"
   ]
  },
  {
   "cell_type": "code",
   "execution_count": 72,
   "metadata": {
    "scrolled": true
   },
   "outputs": [
    {
     "name": "stdout",
     "output_type": "stream",
     "text": [
      "Index(['price', 'sqft_living', 'waterfront', 'view', 'grade', 'sqft_above',\n",
      "       'sqft_basement', 'sqft_living15', 'Date_2014', 'Date_2015', '0_Bedroom',\n",
      "       '1_Bedroom', '2_Bedroom', '3_Bedroom', '4_Bedroom', '5_Bedroom',\n",
      "       '6_Bedroom', '7_Bedroom', '8_Bedroom', '9_Bedroom', '10_Bedroom',\n",
      "       '11_Bedroom', '33_Bedroom', '0.0_Bathroom', '0.5_Bathroom',\n",
      "       '0.75_Bathroom', '1.0_Bathroom', '1.25_Bathroom', '1.5_Bathroom',\n",
      "       '1.75_Bathroom', '2.0_Bathroom', '2.25_Bathroom', '2.5_Bathroom',\n",
      "       '2.75_Bathroom', '3.0_Bathroom', '3.25_Bathroom', '3.5_Bathroom',\n",
      "       '3.75_Bathroom', '4.0_Bathroom', '4.25_Bathroom', '4.5_Bathroom',\n",
      "       '4.75_Bathroom', '5.0_Bathroom', '5.25_Bathroom', '5.5_Bathroom',\n",
      "       '5.75_Bathroom', '6.0_Bathroom', '6.25_Bathroom', '6.5_Bathroom',\n",
      "       '6.75_Bathroom', '7.5_Bathroom', '7.75_Bathroom', '8.0_Bathroom',\n",
      "       '1.0_Floors', '1.5_Floors', '2.0_Floors', '2.5_Floors', '3.0_Floors',\n",
      "       '3.5_Floors', '47.2_Latitude', '47.3_Latitude', '47.4_Latitude',\n",
      "       '47.5_Latitude', '47.6_Latitude', '47.7_Latitude', '47.8_Latitude'],\n",
      "      dtype='object')\n"
     ]
    }
   ],
   "source": [
    "print(df_final.columns)\n",
    "\n",
    "Y = df_final.values[:,0]\n",
    "X = df_final.values[:,1:]"
   ]
  },
  {
   "cell_type": "code",
   "execution_count": 73,
   "metadata": {},
   "outputs": [],
   "source": [
    "X_train_baseline, X_test_baseline, Y_train_baseline, Y_test_baseline = train_test_split(X_baseline, Y_baseline, test_size=0.1)\n",
    "X_train_intermediate2, X_test_intermediate2, Y_train_intermediate2, Y_test_intermediate2 = train_test_split(X_intermediate2, Y_intermediate2, test_size=0.1)\n",
    "X_train, X_test, Y_train, Y_test = train_test_split(X, Y, test_size=0.1)"
   ]
  },
  {
   "cell_type": "code",
   "execution_count": 74,
   "metadata": {},
   "outputs": [],
   "source": [
    "# define base model\n",
    "def baselineModel():\n",
    "    # create model\n",
    "    model = Sequential()\n",
    "    \n",
    "    model.add(Dense(128, input_dim=11, activation='relu'))\n",
    "    \n",
    "    model.add(Dense(128, activation='relu'))\n",
    "    model.add(Dense(128, activation='relu'))\n",
    "    \n",
    "    model.add(Dense(1))\n",
    "    \n",
    "    adam = keras.optimizers.Adam(lr=0.0001, beta_1=0.9, beta_2=0.999, epsilon=None, decay=0.0, amsgrad=False)\n",
    "    \n",
    "    # Compile model\n",
    "    model.compile(loss='mean_squared_error', optimizer=adam, metrics=['mae'])\n",
    "    return model\n",
    "\n",
    "# define intermediate model\n",
    "def intermediateModel():\n",
    "    # create model\n",
    "    model = Sequential()\n",
    "    model.add(Dense(256, input_dim=65, activation='relu'))\n",
    "    model.add(Dropout(0.02))\n",
    "\n",
    "    model.add(Dense(192, activation='relu'))\n",
    "    model.add(Dropout(0.02))\n",
    "    model.add(Dense(192, activation='relu'))\n",
    "    model.add(Dropout(0.02))\n",
    "    model.add(Dense(192, activation='relu'))\n",
    "    model.add(Dropout(0.02))\n",
    "    \n",
    "    model.add(Dense(128, activation='relu'))\n",
    "    \n",
    "    model.add(Dense(1))\n",
    "    \n",
    "    adam = keras.optimizers.Adam(lr=0.0001, beta_1=0.9, beta_2=0.999, epsilon=None, decay=0.0, amsgrad=False)\n",
    "    \n",
    "    # Compile model\n",
    "    model.compile(loss='mean_squared_error', optimizer=adam, metrics=['mae'])\n",
    "    return model"
   ]
  },
  {
   "cell_type": "code",
   "execution_count": 75,
   "metadata": {},
   "outputs": [],
   "source": [
    "baseline_model = baselineModel()"
   ]
  },
  {
   "cell_type": "code",
   "execution_count": 76,
   "metadata": {},
   "outputs": [
    {
     "name": "stdout",
     "output_type": "stream",
     "text": [
      "Train on 19451 samples, validate on 2162 samples\n",
      "Epoch 1/20\n",
      "19451/19451 [==============================] - 7s 352us/step - loss: 142099378766.5728 - mean_absolute_error: 248754.8812 - val_loss: 69927940587.6337 - val_mean_absolute_error: 164363.9490\n",
      "Epoch 2/20\n",
      "19451/19451 [==============================] - 6s 284us/step - loss: 70537690722.1305 - mean_absolute_error: 171607.4375 - val_loss: 69015817041.7021 - val_mean_absolute_error: 163865.4391\n",
      "Epoch 3/20\n",
      "19451/19451 [==============================] - 6s 284us/step - loss: 69762952985.9146 - mean_absolute_error: 171029.8294 - val_loss: 68460206485.4320 - val_mean_absolute_error: 163448.8447\n",
      "Epoch 4/20\n",
      "19451/19451 [==============================] - 6s 284us/step - loss: 69218524751.0993 - mean_absolute_error: 170322.4482 - val_loss: 67912531196.4477 - val_mean_absolute_error: 166545.9751\n",
      "Epoch 5/20\n",
      "19451/19451 [==============================] - 6s 286us/step - loss: 68933413010.9588 - mean_absolute_error: 170122.9126 - val_loss: 67652880648.2886 - val_mean_absolute_error: 165005.0640\n",
      "Epoch 6/20\n",
      "19451/19451 [==============================] - 6s 285us/step - loss: 68747187571.5062 - mean_absolute_error: 170255.1524 - val_loss: 67444104102.9565 - val_mean_absolute_error: 164782.7607\n",
      "Epoch 7/20\n",
      "19451/19451 [==============================] - 6s 284us/step - loss: 68513433220.4814 - mean_absolute_error: 170162.6737 - val_loss: 67330763947.4561 - val_mean_absolute_error: 163501.0526\n",
      "Epoch 8/20\n",
      "19451/19451 [==============================] - 6s 284us/step - loss: 68337758930.1330 - mean_absolute_error: 170103.7519 - val_loss: 67170231623.2821 - val_mean_absolute_error: 163416.0975\n",
      "Epoch 9/20\n",
      "19451/19451 [==============================] - 5s 283us/step - loss: 68178325601.6040 - mean_absolute_error: 170285.0349 - val_loss: 67645095125.1360 - val_mean_absolute_error: 160807.3588\n",
      "Epoch 10/20\n",
      "19451/19451 [==============================] - 6s 283us/step - loss: 68118414277.3533 - mean_absolute_error: 169958.3341 - val_loss: 67128470844.3885 - val_mean_absolute_error: 161758.7203\n",
      "Epoch 11/20\n",
      "19451/19451 [==============================] - 6s 283us/step - loss: 67931394189.6153 - mean_absolute_error: 169682.6839 - val_loss: 66605368344.1554 - val_mean_absolute_error: 165051.5400\n",
      "Epoch 12/20\n",
      "19451/19451 [==============================] - 6s 283us/step - loss: 67809922769.5012 - mean_absolute_error: 169910.0794 - val_loss: 66835744074.1240 - val_mean_absolute_error: 161528.0147\n",
      "Epoch 13/20\n",
      "19451/19451 [==============================] - 6s 284us/step - loss: 67665094472.9003 - mean_absolute_error: 169621.0312 - val_loss: 66574286267.7965 - val_mean_absolute_error: 161838.5264\n",
      "Epoch 14/20\n",
      "19451/19451 [==============================] - 6s 283us/step - loss: 67561393258.3431 - mean_absolute_error: 169419.2897 - val_loss: 66207129877.0768 - val_mean_absolute_error: 163481.5481\n",
      "Epoch 15/20\n",
      "19451/19451 [==============================] - 6s 284us/step - loss: 67392459083.0028 - mean_absolute_error: 169285.0708 - val_loss: 66015205400.1554 - val_mean_absolute_error: 164928.5030\n",
      "Epoch 16/20\n",
      "19451/19451 [==============================] - 6s 284us/step - loss: 67243685849.6217 - mean_absolute_error: 169244.2239 - val_loss: 65919987197.1582 - val_mean_absolute_error: 162823.3801\n",
      "Epoch 17/20\n",
      "19451/19451 [==============================] - 6s 284us/step - loss: 67030583506.3172 - mean_absolute_error: 169411.7658 - val_loss: 66564421168.3108 - val_mean_absolute_error: 159721.1847\n",
      "Epoch 18/20\n",
      "19451/19451 [==============================] - 6s 284us/step - loss: 66947831310.7143 - mean_absolute_error: 168829.5341 - val_loss: 65670040146.8862 - val_mean_absolute_error: 162488.8449\n",
      "Epoch 19/20\n",
      "19451/19451 [==============================] - 6s 285us/step - loss: 66769919734.3265 - mean_absolute_error: 168726.3687 - val_loss: 65604106663.9038 - val_mean_absolute_error: 165630.0990\n",
      "Epoch 20/20\n",
      "19451/19451 [==============================] - 6s 284us/step - loss: 66728808989.3760 - mean_absolute_error: 169120.9854 - val_loss: 66098494921.0583 - val_mean_absolute_error: 159410.7204\n"
     ]
    }
   ],
   "source": [
    "history_baseline = baseline_model.fit(X_train_baseline, Y_train_baseline, batch_size=10, epochs=20, validation_data=(X_test_baseline, Y_test_baseline))"
   ]
  },
  {
   "cell_type": "code",
   "execution_count": 77,
   "metadata": {},
   "outputs": [],
   "source": [
    "intermediate_model = intermediateModel()"
   ]
  },
  {
   "cell_type": "code",
   "execution_count": 78,
   "metadata": {},
   "outputs": [
    {
     "name": "stdout",
     "output_type": "stream",
     "text": [
      "Train on 19451 samples, validate on 2162 samples\n",
      "Epoch 1/100\n",
      "19451/19451 [==============================] - 1s 67us/step - loss: 16.1883 - mean_absolute_error: 2.6302 - val_loss: 7.2222 - val_mean_absolute_error: 1.5179\n",
      "Epoch 2/100\n",
      "19451/19451 [==============================] - 1s 41us/step - loss: 5.7539 - mean_absolute_error: 1.3627 - val_loss: 5.7003 - val_mean_absolute_error: 1.2967\n",
      "Epoch 3/100\n",
      "19451/19451 [==============================] - 1s 41us/step - loss: 4.7376 - mean_absolute_error: 1.2222 - val_loss: 4.7085 - val_mean_absolute_error: 1.1623\n",
      "Epoch 4/100\n",
      "19451/19451 [==============================] - 1s 41us/step - loss: 4.0779 - mean_absolute_error: 1.1536 - val_loss: 4.0935 - val_mean_absolute_error: 1.1037\n",
      "Epoch 5/100\n",
      "19451/19451 [==============================] - 1s 40us/step - loss: 3.7468 - mean_absolute_error: 1.1146 - val_loss: 3.7772 - val_mean_absolute_error: 1.0862\n",
      "Epoch 6/100\n",
      "19451/19451 [==============================] - 1s 40us/step - loss: 3.4663 - mean_absolute_error: 1.0979 - val_loss: 3.5287 - val_mean_absolute_error: 1.0610\n",
      "Epoch 7/100\n",
      "19451/19451 [==============================] - 1s 41us/step - loss: 3.3809 - mean_absolute_error: 1.0872 - val_loss: 3.5957 - val_mean_absolute_error: 1.0476\n",
      "Epoch 8/100\n",
      "19451/19451 [==============================] - 1s 40us/step - loss: 3.2558 - mean_absolute_error: 1.0693 - val_loss: 3.4461 - val_mean_absolute_error: 1.0456\n",
      "Epoch 9/100\n",
      "19451/19451 [==============================] - 1s 41us/step - loss: 3.1391 - mean_absolute_error: 1.0634 - val_loss: 3.2398 - val_mean_absolute_error: 1.0307\n",
      "Epoch 10/100\n",
      "19451/19451 [==============================] - 1s 41us/step - loss: 3.1218 - mean_absolute_error: 1.0615 - val_loss: 3.1206 - val_mean_absolute_error: 1.0407\n",
      "Epoch 11/100\n",
      "19451/19451 [==============================] - 1s 41us/step - loss: 2.9888 - mean_absolute_error: 1.0438 - val_loss: 3.1276 - val_mean_absolute_error: 1.0551\n",
      "Epoch 12/100\n",
      "19451/19451 [==============================] - 1s 40us/step - loss: 2.9889 - mean_absolute_error: 1.0550 - val_loss: 3.1646 - val_mean_absolute_error: 1.0243\n",
      "Epoch 13/100\n",
      "19451/19451 [==============================] - 1s 40us/step - loss: 2.8750 - mean_absolute_error: 1.0353 - val_loss: 3.2807 - val_mean_absolute_error: 1.0318\n",
      "Epoch 14/100\n",
      "19451/19451 [==============================] - 1s 41us/step - loss: 2.8583 - mean_absolute_error: 1.0270 - val_loss: 2.9670 - val_mean_absolute_error: 1.0177\n",
      "Epoch 15/100\n",
      "19451/19451 [==============================] - 1s 41us/step - loss: 2.7994 - mean_absolute_error: 1.0288 - val_loss: 2.9770 - val_mean_absolute_error: 1.0171\n",
      "Epoch 16/100\n",
      "19451/19451 [==============================] - 1s 41us/step - loss: 2.7987 - mean_absolute_error: 1.0295 - val_loss: 3.0820 - val_mean_absolute_error: 1.0126\n",
      "Epoch 17/100\n",
      "19451/19451 [==============================] - 1s 40us/step - loss: 2.7177 - mean_absolute_error: 1.0169 - val_loss: 3.0267 - val_mean_absolute_error: 1.0060\n",
      "Epoch 18/100\n",
      "19451/19451 [==============================] - 1s 41us/step - loss: 2.6987 - mean_absolute_error: 1.0114 - val_loss: 2.9574 - val_mean_absolute_error: 1.0058\n",
      "Epoch 19/100\n",
      "19451/19451 [==============================] - 1s 41us/step - loss: 2.6045 - mean_absolute_error: 1.0094 - val_loss: 3.0151 - val_mean_absolute_error: 1.0178\n",
      "Epoch 20/100\n",
      "19451/19451 [==============================] - 1s 41us/step - loss: 2.5982 - mean_absolute_error: 1.0059 - val_loss: 2.8983 - val_mean_absolute_error: 1.0308\n",
      "Epoch 21/100\n",
      "19451/19451 [==============================] - 1s 41us/step - loss: 2.6095 - mean_absolute_error: 1.0039 - val_loss: 3.0722 - val_mean_absolute_error: 1.0474\n",
      "Epoch 22/100\n",
      "19451/19451 [==============================] - 1s 41us/step - loss: 2.5334 - mean_absolute_error: 0.9971 - val_loss: 2.9793 - val_mean_absolute_error: 1.0110\n",
      "Epoch 23/100\n",
      "19451/19451 [==============================] - 1s 41us/step - loss: 2.5062 - mean_absolute_error: 0.9924 - val_loss: 2.9572 - val_mean_absolute_error: 1.0150\n",
      "Epoch 24/100\n",
      "19451/19451 [==============================] - 1s 41us/step - loss: 2.4871 - mean_absolute_error: 0.9884 - val_loss: 2.9622 - val_mean_absolute_error: 1.0226\n",
      "Epoch 25/100\n",
      "19451/19451 [==============================] - 1s 41us/step - loss: 2.4545 - mean_absolute_error: 0.9853 - val_loss: 3.0017 - val_mean_absolute_error: 1.0027\n",
      "Epoch 26/100\n",
      "19451/19451 [==============================] - 1s 41us/step - loss: 2.4062 - mean_absolute_error: 0.9856 - val_loss: 2.8908 - val_mean_absolute_error: 1.0201\n",
      "Epoch 27/100\n",
      "19451/19451 [==============================] - 1s 41us/step - loss: 2.4343 - mean_absolute_error: 0.9835 - val_loss: 2.9110 - val_mean_absolute_error: 1.0044\n",
      "Epoch 28/100\n",
      "19451/19451 [==============================] - 1s 41us/step - loss: 2.4389 - mean_absolute_error: 0.9820 - val_loss: 3.0969 - val_mean_absolute_error: 1.0088\n",
      "Epoch 29/100\n",
      "19451/19451 [==============================] - 1s 41us/step - loss: 2.3529 - mean_absolute_error: 0.9758 - val_loss: 2.9251 - val_mean_absolute_error: 1.0043\n",
      "Epoch 30/100\n",
      "19451/19451 [==============================] - 1s 41us/step - loss: 2.3607 - mean_absolute_error: 0.9727 - val_loss: 2.9169 - val_mean_absolute_error: 0.9975\n",
      "Epoch 31/100\n",
      "19451/19451 [==============================] - 1s 41us/step - loss: 2.3756 - mean_absolute_error: 0.9740 - val_loss: 3.1168 - val_mean_absolute_error: 1.0090\n",
      "Epoch 32/100\n",
      "19451/19451 [==============================] - 1s 41us/step - loss: 2.3787 - mean_absolute_error: 0.9782 - val_loss: 2.8551 - val_mean_absolute_error: 1.0012\n",
      "Epoch 33/100\n",
      "19451/19451 [==============================] - 1s 41us/step - loss: 2.3002 - mean_absolute_error: 0.9660 - val_loss: 2.9169 - val_mean_absolute_error: 1.0029\n",
      "Epoch 34/100\n",
      "19451/19451 [==============================] - 1s 41us/step - loss: 2.3216 - mean_absolute_error: 0.9644 - val_loss: 3.0001 - val_mean_absolute_error: 1.0005\n",
      "Epoch 35/100\n",
      "19451/19451 [==============================] - 1s 40us/step - loss: 2.2716 - mean_absolute_error: 0.9600 - val_loss: 3.1724 - val_mean_absolute_error: 1.0103\n",
      "Epoch 36/100\n",
      "19451/19451 [==============================] - 1s 41us/step - loss: 2.2760 - mean_absolute_error: 0.9595 - val_loss: 2.9910 - val_mean_absolute_error: 1.0291\n",
      "Epoch 37/100\n",
      "19451/19451 [==============================] - 1s 41us/step - loss: 2.2506 - mean_absolute_error: 0.9579 - val_loss: 3.0886 - val_mean_absolute_error: 1.0335\n",
      "Epoch 38/100\n",
      "19451/19451 [==============================] - 1s 41us/step - loss: 2.2578 - mean_absolute_error: 0.9566 - val_loss: 2.9699 - val_mean_absolute_error: 1.0012\n",
      "Epoch 39/100\n",
      "19451/19451 [==============================] - 1s 41us/step - loss: 2.2508 - mean_absolute_error: 0.9535 - val_loss: 3.0027 - val_mean_absolute_error: 1.0095\n",
      "Epoch 40/100\n",
      "19451/19451 [==============================] - 1s 41us/step - loss: 2.1846 - mean_absolute_error: 0.9447 - val_loss: 3.0626 - val_mean_absolute_error: 1.0052\n",
      "Epoch 41/100\n",
      "19451/19451 [==============================] - 1s 41us/step - loss: 2.1762 - mean_absolute_error: 0.9432 - val_loss: 3.1514 - val_mean_absolute_error: 1.0665\n",
      "Epoch 42/100\n",
      "19451/19451 [==============================] - 1s 41us/step - loss: 2.1698 - mean_absolute_error: 0.9447 - val_loss: 2.9705 - val_mean_absolute_error: 1.0068\n",
      "Epoch 43/100\n",
      "19451/19451 [==============================] - 1s 41us/step - loss: 2.1935 - mean_absolute_error: 0.9468 - val_loss: 2.9668 - val_mean_absolute_error: 1.0041\n",
      "Epoch 44/100\n",
      "19451/19451 [==============================] - 1s 40us/step - loss: 2.1862 - mean_absolute_error: 0.9441 - val_loss: 3.0140 - val_mean_absolute_error: 1.0067\n",
      "Epoch 45/100\n",
      "19451/19451 [==============================] - 1s 41us/step - loss: 2.1199 - mean_absolute_error: 0.9397 - val_loss: 2.8487 - val_mean_absolute_error: 0.9999\n",
      "Epoch 46/100\n",
      "19451/19451 [==============================] - 1s 40us/step - loss: 2.1089 - mean_absolute_error: 0.9366 - val_loss: 2.8884 - val_mean_absolute_error: 1.0205\n",
      "Epoch 47/100\n",
      "19451/19451 [==============================] - 1s 41us/step - loss: 2.1461 - mean_absolute_error: 0.9398 - val_loss: 3.1327 - val_mean_absolute_error: 1.0405\n",
      "Epoch 48/100\n",
      "19451/19451 [==============================] - 1s 41us/step - loss: 2.1058 - mean_absolute_error: 0.9360 - val_loss: 2.9803 - val_mean_absolute_error: 1.0001\n",
      "Epoch 49/100\n",
      "19451/19451 [==============================] - 1s 41us/step - loss: 2.0896 - mean_absolute_error: 0.9283 - val_loss: 3.0049 - val_mean_absolute_error: 1.0038\n",
      "Epoch 50/100\n",
      "19451/19451 [==============================] - 1s 41us/step - loss: 2.1004 - mean_absolute_error: 0.9331 - val_loss: 3.0224 - val_mean_absolute_error: 1.0372\n",
      "Epoch 51/100\n",
      "19451/19451 [==============================] - 1s 41us/step - loss: 2.0623 - mean_absolute_error: 0.9264 - val_loss: 2.9971 - val_mean_absolute_error: 1.0039\n",
      "Epoch 52/100\n",
      "19451/19451 [==============================] - 1s 40us/step - loss: 2.0589 - mean_absolute_error: 0.9281 - val_loss: 3.0035 - val_mean_absolute_error: 1.0175\n",
      "Epoch 53/100\n",
      "19451/19451 [==============================] - 1s 40us/step - loss: 2.0792 - mean_absolute_error: 0.9291 - val_loss: 2.9330 - val_mean_absolute_error: 1.0135\n",
      "Epoch 54/100\n",
      "19451/19451 [==============================] - 1s 40us/step - loss: 2.0645 - mean_absolute_error: 0.9297 - val_loss: 3.0498 - val_mean_absolute_error: 1.0103\n",
      "Epoch 55/100\n",
      "19451/19451 [==============================] - 1s 40us/step - loss: 2.0221 - mean_absolute_error: 0.9162 - val_loss: 3.0292 - val_mean_absolute_error: 1.0152\n",
      "Epoch 56/100\n",
      "19451/19451 [==============================] - 1s 41us/step - loss: 2.0184 - mean_absolute_error: 0.9193 - val_loss: 3.0419 - val_mean_absolute_error: 1.0017\n",
      "Epoch 57/100\n",
      "19451/19451 [==============================] - 1s 41us/step - loss: 2.0064 - mean_absolute_error: 0.9180 - val_loss: 3.0234 - val_mean_absolute_error: 1.0151\n",
      "Epoch 58/100\n",
      "19451/19451 [==============================] - 1s 41us/step - loss: 1.9938 - mean_absolute_error: 0.9154 - val_loss: 3.0296 - val_mean_absolute_error: 1.0038\n",
      "Epoch 59/100\n",
      "19451/19451 [==============================] - 1s 40us/step - loss: 1.9803 - mean_absolute_error: 0.9109 - val_loss: 2.9184 - val_mean_absolute_error: 1.0069\n",
      "Epoch 60/100\n",
      "19451/19451 [==============================] - 1s 41us/step - loss: 1.9795 - mean_absolute_error: 0.9083 - val_loss: 2.9769 - val_mean_absolute_error: 1.0050\n",
      "Epoch 61/100\n",
      "19451/19451 [==============================] - 1s 41us/step - loss: 2.0051 - mean_absolute_error: 0.9142 - val_loss: 3.0967 - val_mean_absolute_error: 1.0101\n",
      "Epoch 62/100\n",
      "19451/19451 [==============================] - 1s 41us/step - loss: 2.0014 - mean_absolute_error: 0.9162 - val_loss: 2.9901 - val_mean_absolute_error: 1.0053\n",
      "Epoch 63/100\n",
      "19451/19451 [==============================] - 1s 41us/step - loss: 1.9543 - mean_absolute_error: 0.9057 - val_loss: 3.0638 - val_mean_absolute_error: 1.0083\n",
      "Epoch 64/100\n",
      "19451/19451 [==============================] - 1s 41us/step - loss: 1.9603 - mean_absolute_error: 0.9063 - val_loss: 3.0219 - val_mean_absolute_error: 1.0097\n",
      "Epoch 65/100\n",
      "19451/19451 [==============================] - 1s 41us/step - loss: 1.9302 - mean_absolute_error: 0.9104 - val_loss: 3.0534 - val_mean_absolute_error: 1.0106\n",
      "Epoch 66/100\n",
      "19451/19451 [==============================] - 1s 41us/step - loss: 1.9276 - mean_absolute_error: 0.9019 - val_loss: 3.0357 - val_mean_absolute_error: 1.0056\n",
      "Epoch 67/100\n",
      "19451/19451 [==============================] - 1s 41us/step - loss: 1.9072 - mean_absolute_error: 0.8989 - val_loss: 3.0004 - val_mean_absolute_error: 1.0106\n",
      "Epoch 68/100\n",
      "19451/19451 [==============================] - 1s 41us/step - loss: 1.9180 - mean_absolute_error: 0.9000 - val_loss: 2.9565 - val_mean_absolute_error: 1.0170\n",
      "Epoch 69/100\n",
      "19451/19451 [==============================] - 1s 41us/step - loss: 1.9115 - mean_absolute_error: 0.8992 - val_loss: 3.0236 - val_mean_absolute_error: 1.0207\n",
      "Epoch 70/100\n",
      "19451/19451 [==============================] - 1s 41us/step - loss: 1.8951 - mean_absolute_error: 0.8998 - val_loss: 3.0144 - val_mean_absolute_error: 1.0235\n",
      "Epoch 71/100\n",
      "19451/19451 [==============================] - 1s 41us/step - loss: 1.9418 - mean_absolute_error: 0.9006 - val_loss: 3.1406 - val_mean_absolute_error: 1.0778\n",
      "Epoch 72/100\n",
      "19451/19451 [==============================] - 1s 40us/step - loss: 1.9026 - mean_absolute_error: 0.8953 - val_loss: 3.0995 - val_mean_absolute_error: 1.0171\n",
      "Epoch 73/100\n",
      "19451/19451 [==============================] - 1s 40us/step - loss: 1.9004 - mean_absolute_error: 0.8968 - val_loss: 3.0526 - val_mean_absolute_error: 1.0238\n",
      "Epoch 74/100\n",
      "19451/19451 [==============================] - 1s 40us/step - loss: 1.8792 - mean_absolute_error: 0.8942 - val_loss: 3.1017 - val_mean_absolute_error: 1.0351\n",
      "Epoch 75/100\n",
      "19451/19451 [==============================] - 1s 41us/step - loss: 1.8847 - mean_absolute_error: 0.8946 - val_loss: 3.0423 - val_mean_absolute_error: 1.0173\n",
      "Epoch 76/100\n",
      "19451/19451 [==============================] - 1s 40us/step - loss: 1.8523 - mean_absolute_error: 0.8884 - val_loss: 3.0916 - val_mean_absolute_error: 1.0285\n",
      "Epoch 77/100\n",
      "19451/19451 [==============================] - 1s 41us/step - loss: 1.8440 - mean_absolute_error: 0.8875 - val_loss: 3.0136 - val_mean_absolute_error: 1.0134\n",
      "Epoch 78/100\n",
      "19451/19451 [==============================] - 1s 40us/step - loss: 1.8210 - mean_absolute_error: 0.8813 - val_loss: 3.1024 - val_mean_absolute_error: 1.0198\n",
      "Epoch 79/100\n",
      "19451/19451 [==============================] - 1s 40us/step - loss: 1.8456 - mean_absolute_error: 0.8851 - val_loss: 3.0342 - val_mean_absolute_error: 1.0385\n",
      "Epoch 80/100\n",
      "19451/19451 [==============================] - 1s 41us/step - loss: 1.8293 - mean_absolute_error: 0.8846 - val_loss: 3.0633 - val_mean_absolute_error: 1.0112\n",
      "Epoch 81/100\n",
      "19451/19451 [==============================] - 1s 41us/step - loss: 1.8139 - mean_absolute_error: 0.8791 - val_loss: 3.0856 - val_mean_absolute_error: 1.0069\n",
      "Epoch 82/100\n",
      "19451/19451 [==============================] - 1s 41us/step - loss: 1.8265 - mean_absolute_error: 0.8845 - val_loss: 3.0586 - val_mean_absolute_error: 1.0087\n",
      "Epoch 83/100\n",
      "19451/19451 [==============================] - 1s 41us/step - loss: 1.7967 - mean_absolute_error: 0.8780 - val_loss: 3.0597 - val_mean_absolute_error: 1.0118\n",
      "Epoch 84/100\n",
      "19451/19451 [==============================] - 1s 41us/step - loss: 1.8460 - mean_absolute_error: 0.8863 - val_loss: 3.0209 - val_mean_absolute_error: 1.0053\n",
      "Epoch 85/100\n",
      "19451/19451 [==============================] - 1s 41us/step - loss: 1.7805 - mean_absolute_error: 0.8740 - val_loss: 3.0496 - val_mean_absolute_error: 1.0092\n",
      "Epoch 86/100\n",
      "19451/19451 [==============================] - 1s 41us/step - loss: 1.8194 - mean_absolute_error: 0.8818 - val_loss: 3.0151 - val_mean_absolute_error: 1.0111\n",
      "Epoch 87/100\n",
      "19451/19451 [==============================] - 1s 41us/step - loss: 1.7882 - mean_absolute_error: 0.8780 - val_loss: 3.0347 - val_mean_absolute_error: 1.0170\n",
      "Epoch 88/100\n",
      "19451/19451 [==============================] - 1s 41us/step - loss: 1.7599 - mean_absolute_error: 0.8700 - val_loss: 3.1406 - val_mean_absolute_error: 1.0128\n",
      "Epoch 89/100\n",
      "19451/19451 [==============================] - 1s 41us/step - loss: 1.7676 - mean_absolute_error: 0.8707 - val_loss: 3.0435 - val_mean_absolute_error: 1.0233\n",
      "Epoch 90/100\n",
      "19451/19451 [==============================] - 1s 41us/step - loss: 1.7710 - mean_absolute_error: 0.8745 - val_loss: 2.9916 - val_mean_absolute_error: 1.0065\n",
      "Epoch 91/100\n",
      "19451/19451 [==============================] - 1s 40us/step - loss: 1.7797 - mean_absolute_error: 0.8745 - val_loss: 3.0794 - val_mean_absolute_error: 1.0165\n",
      "Epoch 92/100\n",
      "19451/19451 [==============================] - 1s 41us/step - loss: 1.7674 - mean_absolute_error: 0.8671 - val_loss: 3.1432 - val_mean_absolute_error: 1.0606\n",
      "Epoch 93/100\n",
      "19451/19451 [==============================] - 1s 41us/step - loss: 1.7743 - mean_absolute_error: 0.8699 - val_loss: 3.1238 - val_mean_absolute_error: 1.0094\n",
      "Epoch 94/100\n",
      "19451/19451 [==============================] - 1s 41us/step - loss: 1.7406 - mean_absolute_error: 0.8678 - val_loss: 3.0748 - val_mean_absolute_error: 1.0248\n",
      "Epoch 95/100\n",
      "19451/19451 [==============================] - 1s 41us/step - loss: 1.7534 - mean_absolute_error: 0.8648 - val_loss: 2.9793 - val_mean_absolute_error: 1.0310\n",
      "Epoch 96/100\n",
      "19451/19451 [==============================] - 1s 41us/step - loss: 1.7460 - mean_absolute_error: 0.8665 - val_loss: 3.0098 - val_mean_absolute_error: 1.0099\n",
      "Epoch 97/100\n",
      "19451/19451 [==============================] - 1s 41us/step - loss: 1.7530 - mean_absolute_error: 0.8647 - val_loss: 3.1752 - val_mean_absolute_error: 1.0605\n",
      "Epoch 98/100\n",
      "19451/19451 [==============================] - 1s 41us/step - loss: 1.7134 - mean_absolute_error: 0.8626 - val_loss: 3.0530 - val_mean_absolute_error: 1.0056\n",
      "Epoch 99/100\n",
      "19451/19451 [==============================] - 1s 41us/step - loss: 1.7138 - mean_absolute_error: 0.8648 - val_loss: 3.0396 - val_mean_absolute_error: 1.0051\n",
      "Epoch 100/100\n",
      "19451/19451 [==============================] - 1s 41us/step - loss: 1.7363 - mean_absolute_error: 0.8639 - val_loss: 3.3756 - val_mean_absolute_error: 1.0388\n"
     ]
    }
   ],
   "source": [
    "history_intermediate = intermediate_model.fit(X_train, Y_train, batch_size=100, epochs=100, validation_data=(X_test, Y_test))"
   ]
  },
  {
   "cell_type": "code",
   "execution_count": 79,
   "metadata": {},
   "outputs": [],
   "source": [
    "intermediate2_model = intermediateModel()"
   ]
  },
  {
   "cell_type": "code",
   "execution_count": null,
   "metadata": {},
   "outputs": [
    {
     "name": "stdout",
     "output_type": "stream",
     "text": [
      "Train on 18089 samples, validate on 2010 samples\n",
      "Epoch 1/100\n",
      "18089/18089 [==============================] - 1s 73us/step - loss: 6.7245 - mean_absolute_error: 1.9315 - val_loss: 1.7048 - val_mean_absolute_error: 1.0019\n",
      "Epoch 2/100\n",
      "18089/18089 [==============================] - 1s 41us/step - loss: 1.5053 - mean_absolute_error: 0.9364 - val_loss: 1.3180 - val_mean_absolute_error: 0.8561\n",
      "Epoch 3/100\n",
      "18089/18089 [==============================] - 1s 41us/step - loss: 1.2780 - mean_absolute_error: 0.8450 - val_loss: 1.2028 - val_mean_absolute_error: 0.7935\n",
      "Epoch 4/100\n",
      "18089/18089 [==============================] - 1s 41us/step - loss: 1.1732 - mean_absolute_error: 0.8044 - val_loss: 1.1093 - val_mean_absolute_error: 0.7737\n",
      "Epoch 5/100\n",
      "18089/18089 [==============================] - 1s 41us/step - loss: 1.1175 - mean_absolute_error: 0.7835 - val_loss: 1.0738 - val_mean_absolute_error: 0.7510\n",
      "Epoch 6/100\n",
      "18089/18089 [==============================] - 1s 41us/step - loss: 1.0766 - mean_absolute_error: 0.7676 - val_loss: 1.0643 - val_mean_absolute_error: 0.7635\n",
      "Epoch 7/100\n",
      "18089/18089 [==============================] - 1s 41us/step - loss: 1.0681 - mean_absolute_error: 0.7669 - val_loss: 1.0269 - val_mean_absolute_error: 0.7343\n",
      "Epoch 8/100\n",
      "18089/18089 [==============================] - 1s 41us/step - loss: 1.0531 - mean_absolute_error: 0.7576 - val_loss: 1.1011 - val_mean_absolute_error: 0.7955\n",
      "Epoch 9/100\n",
      "18089/18089 [==============================] - 1s 41us/step - loss: 1.0296 - mean_absolute_error: 0.7515 - val_loss: 1.0139 - val_mean_absolute_error: 0.7293\n",
      "Epoch 10/100\n",
      "18089/18089 [==============================] - 1s 41us/step - loss: 1.0329 - mean_absolute_error: 0.7538 - val_loss: 1.0153 - val_mean_absolute_error: 0.7274\n",
      "Epoch 11/100\n",
      "18089/18089 [==============================] - 1s 41us/step - loss: 1.0094 - mean_absolute_error: 0.7430 - val_loss: 1.0320 - val_mean_absolute_error: 0.7259\n",
      "Epoch 12/100\n",
      "18089/18089 [==============================] - 1s 41us/step - loss: 1.0109 - mean_absolute_error: 0.7430 - val_loss: 1.0117 - val_mean_absolute_error: 0.7242\n",
      "Epoch 13/100\n",
      "18089/18089 [==============================] - 1s 41us/step - loss: 1.0070 - mean_absolute_error: 0.7419 - val_loss: 1.0099 - val_mean_absolute_error: 0.7403\n",
      "Epoch 14/100\n",
      "18089/18089 [==============================] - 1s 41us/step - loss: 0.9932 - mean_absolute_error: 0.7367 - val_loss: 1.0006 - val_mean_absolute_error: 0.7261\n",
      "Epoch 15/100\n",
      "18089/18089 [==============================] - 1s 41us/step - loss: 0.9837 - mean_absolute_error: 0.7311 - val_loss: 1.0344 - val_mean_absolute_error: 0.7583\n",
      "Epoch 16/100\n",
      "18089/18089 [==============================] - 1s 41us/step - loss: 0.9911 - mean_absolute_error: 0.7341 - val_loss: 0.9937 - val_mean_absolute_error: 0.7247\n",
      "Epoch 17/100\n",
      "18089/18089 [==============================] - 1s 41us/step - loss: 0.9738 - mean_absolute_error: 0.7297 - val_loss: 0.9958 - val_mean_absolute_error: 0.7317\n",
      "Epoch 18/100\n",
      "18089/18089 [==============================] - 1s 41us/step - loss: 0.9668 - mean_absolute_error: 0.7241 - val_loss: 1.0165 - val_mean_absolute_error: 0.7214\n",
      "Epoch 19/100\n",
      "18089/18089 [==============================] - 1s 41us/step - loss: 0.9665 - mean_absolute_error: 0.7271 - val_loss: 1.0032 - val_mean_absolute_error: 0.7341\n",
      "Epoch 20/100\n",
      "18089/18089 [==============================] - 1s 41us/step - loss: 0.9621 - mean_absolute_error: 0.7247 - val_loss: 0.9847 - val_mean_absolute_error: 0.7184\n",
      "Epoch 21/100\n",
      "18089/18089 [==============================] - 1s 41us/step - loss: 0.9577 - mean_absolute_error: 0.7233 - val_loss: 1.0093 - val_mean_absolute_error: 0.7462\n",
      "Epoch 22/100\n",
      "18089/18089 [==============================] - 1s 41us/step - loss: 0.9575 - mean_absolute_error: 0.7226 - val_loss: 0.9947 - val_mean_absolute_error: 0.7155\n",
      "Epoch 23/100\n",
      "18089/18089 [==============================] - 1s 41us/step - loss: 0.9500 - mean_absolute_error: 0.7195 - val_loss: 1.0128 - val_mean_absolute_error: 0.7189\n",
      "Epoch 24/100\n",
      "18089/18089 [==============================] - 1s 41us/step - loss: 0.9446 - mean_absolute_error: 0.7169 - val_loss: 1.0030 - val_mean_absolute_error: 0.7186\n",
      "Epoch 25/100\n",
      "18089/18089 [==============================] - 1s 41us/step - loss: 0.9350 - mean_absolute_error: 0.7139 - val_loss: 0.9890 - val_mean_absolute_error: 0.7170\n",
      "Epoch 26/100\n",
      "18089/18089 [==============================] - 1s 41us/step - loss: 0.9407 - mean_absolute_error: 0.7153 - val_loss: 1.0008 - val_mean_absolute_error: 0.7396\n",
      "Epoch 27/100\n",
      "18089/18089 [==============================] - 1s 41us/step - loss: 0.9335 - mean_absolute_error: 0.7141 - val_loss: 0.9872 - val_mean_absolute_error: 0.7216\n",
      "Epoch 28/100\n",
      "18089/18089 [==============================] - 1s 41us/step - loss: 0.9340 - mean_absolute_error: 0.7119 - val_loss: 0.9778 - val_mean_absolute_error: 0.7220\n",
      "Epoch 29/100\n",
      "18089/18089 [==============================] - 1s 41us/step - loss: 0.9241 - mean_absolute_error: 0.7090 - val_loss: 0.9898 - val_mean_absolute_error: 0.7173\n",
      "Epoch 30/100\n",
      "18089/18089 [==============================] - 1s 41us/step - loss: 0.9212 - mean_absolute_error: 0.7083 - val_loss: 0.9884 - val_mean_absolute_error: 0.7199\n",
      "Epoch 31/100\n",
      "18089/18089 [==============================] - 1s 41us/step - loss: 0.9116 - mean_absolute_error: 0.7043 - val_loss: 0.9828 - val_mean_absolute_error: 0.7201\n",
      "Epoch 32/100\n",
      "18089/18089 [==============================] - 1s 41us/step - loss: 0.9168 - mean_absolute_error: 0.7062 - val_loss: 1.0050 - val_mean_absolute_error: 0.7348\n",
      "Epoch 33/100\n",
      "18089/18089 [==============================] - 1s 41us/step - loss: 0.9052 - mean_absolute_error: 0.7006 - val_loss: 0.9763 - val_mean_absolute_error: 0.7116\n",
      "Epoch 34/100\n",
      "18089/18089 [==============================] - 1s 41us/step - loss: 0.9120 - mean_absolute_error: 0.7057 - val_loss: 1.0011 - val_mean_absolute_error: 0.7186\n",
      "Epoch 35/100\n",
      "18089/18089 [==============================] - 1s 41us/step - loss: 0.9054 - mean_absolute_error: 0.7001 - val_loss: 0.9787 - val_mean_absolute_error: 0.7143\n",
      "Epoch 36/100\n",
      " 7900/18089 [============>.................] - ETA: 0s - loss: 0.8689 - mean_absolute_error: 0.6916"
     ]
    }
   ],
   "source": [
    "history_intermediate2 = intermediate2_model.fit(X_train_intermediate2, Y_train_intermediate2, batch_size=100, epochs=100, validation_data=(X_test_intermediate2, Y_test_intermediate2))"
   ]
  },
  {
   "cell_type": "code",
   "execution_count": 1,
   "metadata": {},
   "outputs": [
    {
     "ename": "NameError",
     "evalue": "name 'history_baseline' is not defined",
     "output_type": "error",
     "traceback": [
      "\u001b[0;31m---------------------------------------------------------------------------\u001b[0m",
      "\u001b[0;31mNameError\u001b[0m                                 Traceback (most recent call last)",
      "\u001b[0;32m<ipython-input-1-822694c57c19>\u001b[0m in \u001b[0;36m<module>\u001b[0;34m()\u001b[0m\n\u001b[0;32m----> 1\u001b[0;31m \u001b[0mprint\u001b[0m\u001b[0;34m(\u001b[0m\u001b[0mhistory_baseline\u001b[0m\u001b[0;34m.\u001b[0m\u001b[0mhistory\u001b[0m\u001b[0;34m.\u001b[0m\u001b[0mkeys\u001b[0m\u001b[0;34m(\u001b[0m\u001b[0;34m)\u001b[0m\u001b[0;34m)\u001b[0m\u001b[0;34m\u001b[0m\u001b[0m\n\u001b[0m\u001b[1;32m      2\u001b[0m \u001b[0;31m# summarize history for accuracy\u001b[0m\u001b[0;34m\u001b[0m\u001b[0;34m\u001b[0m\u001b[0m\n\u001b[1;32m      3\u001b[0m \u001b[0mplt\u001b[0m\u001b[0;34m.\u001b[0m\u001b[0mplot\u001b[0m\u001b[0;34m(\u001b[0m\u001b[0mhistory_baseline\u001b[0m\u001b[0;34m.\u001b[0m\u001b[0mhistory\u001b[0m\u001b[0;34m[\u001b[0m\u001b[0;34m'mean_absolute_error'\u001b[0m\u001b[0;34m]\u001b[0m\u001b[0;34m)\u001b[0m\u001b[0;34m\u001b[0m\u001b[0m\n\u001b[1;32m      4\u001b[0m \u001b[0mplt\u001b[0m\u001b[0;34m.\u001b[0m\u001b[0mplot\u001b[0m\u001b[0;34m(\u001b[0m\u001b[0mhistory_baseline\u001b[0m\u001b[0;34m.\u001b[0m\u001b[0mhistory\u001b[0m\u001b[0;34m[\u001b[0m\u001b[0;34m'val_mean_absolute_error'\u001b[0m\u001b[0;34m]\u001b[0m\u001b[0;34m)\u001b[0m\u001b[0;34m\u001b[0m\u001b[0m\n\u001b[1;32m      5\u001b[0m \u001b[0mplt\u001b[0m\u001b[0;34m.\u001b[0m\u001b[0mtitle\u001b[0m\u001b[0;34m(\u001b[0m\u001b[0;34m'Baseline Model MAE'\u001b[0m\u001b[0;34m)\u001b[0m\u001b[0;34m\u001b[0m\u001b[0m\n",
      "\u001b[0;31mNameError\u001b[0m: name 'history_baseline' is not defined"
     ]
    }
   ],
   "source": [
    "print(history_baseline.history.keys())\n",
    "# summarize history for accuracy\n",
    "plt.plot(history_baseline.history['mean_absolute_error'])\n",
    "plt.plot(history_baseline.history['val_mean_absolute_error'])\n",
    "plt.title('Baseline Model MAE')\n",
    "plt.ylabel('Mean Absolute Error (1$)')\n",
    "plt.xlabel('Epoch')\n",
    "plt.legend(['Train', 'Test'], loc='upper left')\n",
    "plt.show()"
   ]
  },
  {
   "cell_type": "code",
   "execution_count": null,
   "metadata": {},
   "outputs": [],
   "source": [
    "# summarize history for loss\n",
    "plt.plot(history_baseline.history['loss'])\n",
    "plt.plot(history_baseline.history['val_loss'])\n",
    "plt.title('Baseline Model Loss')\n",
    "plt.ylabel('Loss')\n",
    "plt.xlabel('Epoch')\n",
    "plt.legend(['Train', 'Test'], loc='upper left')\n",
    "plt.show()"
   ]
  },
  {
   "cell_type": "code",
   "execution_count": null,
   "metadata": {
    "scrolled": true
   },
   "outputs": [],
   "source": [
    "print(history_intermediate.history.keys())\n",
    "# summarize history for accuracy\n",
    "plt.plot(history_intermediate.history['mean_absolute_error'])\n",
    "plt.plot(history_intermediate.history['val_mean_absolute_error'])\n",
    "plt.title('Intermediate Model MAE')\n",
    "plt.ylabel('Mean Absolute Error (100,000$)')\n",
    "plt.xlabel('Epoch')\n",
    "plt.legend(['Train', 'Test'], loc='upper left')\n",
    "plt.show()"
   ]
  },
  {
   "cell_type": "code",
   "execution_count": null,
   "metadata": {
    "scrolled": true
   },
   "outputs": [],
   "source": [
    "# summarize history for loss\n",
    "plt.plot(history_intermediate.history['loss'])\n",
    "plt.plot(history_intermediate.history['val_loss'])\n",
    "plt.title('Intermediate Model Loss')\n",
    "plt.ylabel('Loss')\n",
    "plt.xlabel('Epoch')\n",
    "plt.legend(['Train', 'Test'], loc='upper left')\n",
    "plt.show()"
   ]
  },
  {
   "cell_type": "code",
   "execution_count": null,
   "metadata": {
    "scrolled": true
   },
   "outputs": [],
   "source": [
    "print(history_intermediate.history.keys())\n",
    "# summarize history for accuracy\n",
    "plt.plot(history_intermediate2.history['mean_absolute_error'])\n",
    "plt.plot(history_intermediate2.history['val_mean_absolute_error'])\n",
    "plt.title('Intermediate Model MAE')\n",
    "plt.ylabel('Mean Absolute Error (100,000$)')\n",
    "plt.xlabel('Epoch')\n",
    "plt.legend(['Train', 'Test'], loc='upper left')\n",
    "plt.show()"
   ]
  },
  {
   "cell_type": "code",
   "execution_count": null,
   "metadata": {
    "scrolled": true
   },
   "outputs": [],
   "source": [
    "# summarize history for loss\n",
    "plt.plot(history_intermediate2.history['loss'])\n",
    "plt.plot(history_intermediate2.history['val_loss'])\n",
    "plt.title('Intermediate Model Loss')\n",
    "plt.ylabel('Loss')\n",
    "plt.xlabel('Epoch')\n",
    "plt.legend(['Train', 'Test'], loc='upper left')\n",
    "plt.show()"
   ]
  },
  {
   "cell_type": "code",
   "execution_count": null,
   "metadata": {
    "scrolled": true
   },
   "outputs": [],
   "source": [
    "lb = np.random.randint((df_v3.shape[0]-1000), size=1)[0]\n",
    "ub = int(lb+1000)\n",
    "for i in range(lb,ub,10):\n",
    "    predict = np.reshape(df_v3.values[i][1:],[1,65])\n",
    "    print(\"\\n\\n\\nHouse {}\\n--------------------------------------------------\".format(i))\n",
    "    print(df_v3.iloc[i].iloc[df_v3.iloc[i].nonzero()[0]])\n",
    "    \n",
    "    print(\"\\nModel Guess is {} Dollars\".format(round(100000 * intermediate2_model.predict(predict, batch_size=None)[0][0])))\n",
    "    print(\"Actual Value is {} Dollars\\n----------------------------------------------------\".format(round(100000 * df_v3.values[i][0])))"
   ]
  }
 ],
 "metadata": {
  "kernelspec": {
   "display_name": "Python [conda env:tensorflow_p36]",
   "language": "python",
   "name": "conda-env-tensorflow_p36-py"
  },
  "language_info": {
   "codemirror_mode": {
    "name": "ipython",
    "version": 3
   },
   "file_extension": ".py",
   "mimetype": "text/x-python",
   "name": "python",
   "nbconvert_exporter": "python",
   "pygments_lexer": "ipython3",
   "version": "3.6.5"
  }
 },
 "nbformat": 4,
 "nbformat_minor": 2
}
